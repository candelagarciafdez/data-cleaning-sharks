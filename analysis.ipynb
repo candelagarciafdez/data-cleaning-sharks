{
  "nbformat": 4,
  "nbformat_minor": 0,
  "metadata": {
    "colab": {
      "name": "clean.ipynb",
      "provenance": [],
      "collapsed_sections": []
    },
    "kernelspec": {
      "name": "python3",
      "display_name": "Python 3"
    }
  },
  "cells": [
    {
      "cell_type": "code",
      "metadata": {
        "id": "ppXFWz7vBR2J"
      },
      "source": [
        "import pandas as pd\n",
        "import seaborn as sns\n",
        "\n",
        "sns.set_style()\n",
        "% matplotlib inline"
      ],
      "execution_count": null,
      "outputs": []
    },
    {
      "cell_type": "code",
      "metadata": {
        "id": "K9rI_eRRBdQw"
      },
      "source": [
        "df = pd.read_csv(\"sharks_limpio.csv\")"
      ],
      "execution_count": 204,
      "outputs": []
    },
    {
      "cell_type": "code",
      "metadata": {
        "id": "bItBZLBzBkuC",
        "outputId": "3c3d3448-52e2-42d7-dd1b-5e622cc40ce3",
        "colab": {
          "base_uri": "https://localhost:8080/"
        }
      },
      "source": [
        "df.shape"
      ],
      "execution_count": 206,
      "outputs": [
        {
          "output_type": "execute_result",
          "data": {
            "text/plain": [
              "(4652, 8)"
            ]
          },
          "metadata": {
            "tags": []
          },
          "execution_count": 206
        }
      ]
    },
    {
      "cell_type": "code",
      "metadata": {
        "id": "1yX145w6BiaL",
        "outputId": "427f4401-f69f-48fe-e35c-92c16e29b0dc",
        "colab": {
          "base_uri": "https://localhost:8080/",
          "height": 352
        }
      },
      "source": [
        "df.head()"
      ],
      "execution_count": 205,
      "outputs": [
        {
          "output_type": "execute_result",
          "data": {
            "text/html": [
              "<div>\n",
              "<style scoped>\n",
              "    .dataframe tbody tr th:only-of-type {\n",
              "        vertical-align: middle;\n",
              "    }\n",
              "\n",
              "    .dataframe tbody tr th {\n",
              "        vertical-align: top;\n",
              "    }\n",
              "\n",
              "    .dataframe thead th {\n",
              "        text-align: right;\n",
              "    }\n",
              "</style>\n",
              "<table border=\"1\" class=\"dataframe\">\n",
              "  <thead>\n",
              "    <tr style=\"text-align: right;\">\n",
              "      <th></th>\n",
              "      <th>Unnamed: 0</th>\n",
              "      <th>Type</th>\n",
              "      <th>Country</th>\n",
              "      <th>Area</th>\n",
              "      <th>Activity</th>\n",
              "      <th>Sex</th>\n",
              "      <th>Fatal (Y/N)</th>\n",
              "      <th>hemisferio</th>\n",
              "    </tr>\n",
              "  </thead>\n",
              "  <tbody>\n",
              "    <tr>\n",
              "      <th>0</th>\n",
              "      <td>0</td>\n",
              "      <td>boating</td>\n",
              "      <td>usa</td>\n",
              "      <td>california</td>\n",
              "      <td>other</td>\n",
              "      <td>f</td>\n",
              "      <td>n</td>\n",
              "      <td>norte</td>\n",
              "    </tr>\n",
              "    <tr>\n",
              "      <th>1</th>\n",
              "      <td>1</td>\n",
              "      <td>unprovoked</td>\n",
              "      <td>usa</td>\n",
              "      <td>other</td>\n",
              "      <td>standing</td>\n",
              "      <td>f</td>\n",
              "      <td>n</td>\n",
              "      <td>norte</td>\n",
              "    </tr>\n",
              "    <tr>\n",
              "      <th>2</th>\n",
              "      <td>2</td>\n",
              "      <td>invalid</td>\n",
              "      <td>usa</td>\n",
              "      <td>hawaii</td>\n",
              "      <td>surfing</td>\n",
              "      <td>m</td>\n",
              "      <td>n</td>\n",
              "      <td>norte</td>\n",
              "    </tr>\n",
              "    <tr>\n",
              "      <th>3</th>\n",
              "      <td>3</td>\n",
              "      <td>unprovoked</td>\n",
              "      <td>australia</td>\n",
              "      <td>new south wales</td>\n",
              "      <td>surfing</td>\n",
              "      <td>m</td>\n",
              "      <td>n</td>\n",
              "      <td>sur</td>\n",
              "    </tr>\n",
              "    <tr>\n",
              "      <th>4</th>\n",
              "      <td>4</td>\n",
              "      <td>provoked</td>\n",
              "      <td>mexico</td>\n",
              "      <td>other</td>\n",
              "      <td>other</td>\n",
              "      <td>m</td>\n",
              "      <td>n</td>\n",
              "      <td>norte</td>\n",
              "    </tr>\n",
              "  </tbody>\n",
              "</table>\n",
              "</div>"
            ],
            "text/plain": [
              "   Unnamed: 0        Type    Country  ... Sex Fatal (Y/N) hemisferio\n",
              "0           0     boating        usa  ...   f           n      norte\n",
              "1           1  unprovoked        usa  ...   f           n      norte\n",
              "2           2     invalid        usa  ...   m           n      norte\n",
              "3           3  unprovoked  australia  ...   m           n        sur\n",
              "4           4    provoked     mexico  ...   m           n      norte\n",
              "\n",
              "[5 rows x 8 columns]"
            ]
          },
          "metadata": {
            "tags": []
          },
          "execution_count": 205
        }
      ]
    },
    {
      "cell_type": "code",
      "metadata": {
        "id": "3hR1o7Sv8jQq",
        "outputId": "7a17bd8b-a963-476f-aa10-b2ff3dfed411",
        "colab": {
          "base_uri": "https://localhost:8080/",
          "height": 452
        }
      },
      "source": [
        "sns.countplot(x = \"hemisferio\", hue = \"Fatal (Y/N)\", data = df)"
      ],
      "execution_count": null,
      "outputs": [
        {
          "output_type": "execute_result",
          "data": {
            "text/plain": [
              "<matplotlib.axes._subplots.AxesSubplot at 0x7f0296b48cf8>"
            ]
          },
          "metadata": {
            "tags": []
          },
          "execution_count": 141
        },
        {
          "output_type": "display_data",
          "data": {
            "image/png": "[encoded data removed]",
            "text/plain": [
              "<Figure size 432x288 with 1 Axes>"
            ]
          },
          "metadata": {
            "tags": [],
            "needs_background": "light"
          }
        }
      ]
    },
    {
      "cell_type": "markdown",
      "metadata": {
        "id": "p_Wa0Fv19Tw_"
      },
      "source": [
        "Se registran más ataques en el hemisferio norte, pero los ataques en el hemisferio sur registrados son proporcionalmente más letales"
      ]
    },
    {
      "cell_type": "code",
      "metadata": {
        "id": "pTzBh_TP-OmP",
        "outputId": "db0ece52-966b-4a7b-d9ae-0ea0d69c9a80",
        "colab": {
          "base_uri": "https://localhost:8080/",
          "height": 480
        }
      },
      "source": [
        "plot = sns.countplot(x = \"Activity\", hue = \"Fatal (Y/N)\", data = df)\n",
        "for item in plot.get_xticklabels():\n",
        "    item.set_rotation(45)"
      ],
      "execution_count": null,
      "outputs": [
        {
          "output_type": "display_data",
          "data": {
            "image/png": "[encoded data removed]",
            "text/plain": [
              "<Figure size 432x288 with 1 Axes>"
            ]
          },
          "metadata": {
            "tags": [],
            "needs_background": "light"
          }
        }
      ]
    },
    {
      "cell_type": "markdown",
      "metadata": {
        "id": "odw_Tgtz_WbN"
      },
      "source": [
        "La mayoría de ataques registrados son de clases diversas (*other*) pero entre las identificadas, la natación (*swimming*) es con diferencia la más letal"
      ]
    },
    {
      "cell_type": "code",
      "metadata": {
        "id": "o86AX9WC-VAW",
        "outputId": "90fe10b6-9af4-44b8-8281-b84b910fb969",
        "colab": {
          "base_uri": "https://localhost:8080/",
          "height": 475
        }
      },
      "source": [
        "plot = sns.countplot(x = \"Type\", hue = \"Fatal (Y/N)\", data = df)\n",
        "for item in plot.get_xticklabels():\n",
        "    item.set_rotation(45)"
      ],
      "execution_count": null,
      "outputs": [
        {
          "output_type": "display_data",
          "data": {
            "image/png": "[encoded data removed]",
            "text/plain": [
              "<Figure size 432x288 with 1 Axes>"
            ]
          },
          "metadata": {
            "tags": [],
            "needs_background": "light"
          }
        }
      ]
    },
    {
      "cell_type": "markdown",
      "metadata": {
        "id": "XBDPe7HI_oNx"
      },
      "source": [
        "La inmensa mayoría de ataques registrados están registrados como no provocados (*unprovoked*), y tienen una mortalidad de en torno al 25%. Sin embargo, los ataques registrados como catástrofes en mar (*sea disaster*) tienen una proporción notablemente más alta de letalidad (probablemente la clasificación derive de eso)."
      ]
    },
    {
      "cell_type": "code",
      "metadata": {
        "id": "7ureeQ4V-zok",
        "outputId": "0dc90db8-b0d3-437d-c5d5-2b037c97f122",
        "colab": {
          "base_uri": "https://localhost:8080/",
          "height": 461
        }
      },
      "source": [
        "plot = sns.countplot(x = \"Sex\", hue = \"Fatal (Y/N)\", data = df)\n",
        "for item in plot.get_xticklabels():\n",
        "    item.set_rotation(45)"
      ],
      "execution_count": null,
      "outputs": [
        {
          "output_type": "display_data",
          "data": {
            "image/png": "[encoded data removed]",
            "text/plain": [
              "<Figure size 432x288 with 1 Axes>"
            ]
          },
          "metadata": {
            "tags": [],
            "needs_background": "light"
          }
        }
      ]
    },
    {
      "cell_type": "markdown",
      "metadata": {
        "id": "xvfq1VIvAG2h"
      },
      "source": [
        "Hay, con diferencia, más vícitmas masculinas registradas, probablemente por los sesgos al practicar deportes de riesgo y puede que al reportar los ataques, aunque el índice de letalidad parece ser semejante para ambos géneros."
      ]
    },
    {
      "cell_type": "code",
      "metadata": {
        "id": "k8cazJsw-7EL"
      },
      "source": [
        ""
      ],
      "execution_count": null,
      "outputs": []
    }
  ]
}