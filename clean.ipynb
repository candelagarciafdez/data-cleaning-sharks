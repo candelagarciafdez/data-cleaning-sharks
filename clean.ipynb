{
  "nbformat": 4,
  "nbformat_minor": 0,
  "metadata": {
    "colab": {
      "name": "clean.ipynb",
      "provenance": [],
      "collapsed_sections": []
    },
    "kernelspec": {
      "name": "Python 3.8.3 64-bit (conda)",
      "display_name": "Python 3.8.3 64-bit (conda)",
      "metadata": {
        "interpreter": {
          "hash": "f7c60b22223a3223b870e7ee247e278545f9706be519012df295abe1dee01d83"
        }
      }
    }
  },
  "cells": [
    {
      "cell_type": "code",
      "metadata": {
        "id": "E1aooZWc6X2t"
      },
      "source": [
        "import pandas as pd\n",
        "import regex as re\n",
        "import numpy as np"
      ],
      "execution_count": 1,
      "outputs": []
    },
    {
      "cell_type": "code",
      "metadata": {
        "id": "awUpC0y06-sV"
      },
      "source": [
        "df = pd.read_csv(\"~/Desktop/attacks.csv\", encoding=\"latin-1\")"
      ],
      "execution_count": 30,
      "outputs": []
    },
    {
      "cell_type": "code",
      "metadata": {
        "id": "mWpCE5nq7DXM",
        "outputId": "aa9ec55f-f8b0-45fd-c7f1-a6ef463593c9",
        "colab": {
          "base_uri": "https://localhost:8080/"
        }
      },
      "source": [
        "df.columns"
      ],
      "execution_count": 31,
      "outputs": [
        {
          "output_type": "execute_result",
          "data": {
            "text/plain": [
              "Index(['Case Number', 'Date', 'Year', 'Type', 'Country', 'Area', 'Location',\n",
              "       'Activity', 'Name', 'Sex ', 'Age', 'Injury', 'Fatal (Y/N)', 'Time',\n",
              "       'Species ', 'Investigator or Source', 'pdf', 'href formula', 'href',\n",
              "       'Case Number.1', 'Case Number.2', 'original order', 'Unnamed: 22',\n",
              "       'Unnamed: 23'],\n",
              "      dtype='object')"
            ]
          },
          "metadata": {},
          "execution_count": 31
        }
      ]
    },
    {
      "cell_type": "code",
      "metadata": {
        "id": "jaNsk0ex1Fvm"
      },
      "source": [
        "# el nombre de Species tiene un espacio a la derecha\n",
        "# genericamente quitamos los espacios a los lados\n",
        "df.columns = df.columns.str.strip()"
      ],
      "execution_count": 32,
      "outputs": []
    },
    {
      "cell_type": "code",
      "metadata": {
        "id": "1UAw_FYb7UNX",
        "outputId": "dac83e2d-5f38-4ebe-85c6-f8380aca0b12",
        "colab": {
          "base_uri": "https://localhost:8080/"
        }
      },
      "source": [
        "df.shape"
      ],
      "execution_count": 33,
      "outputs": [
        {
          "output_type": "execute_result",
          "data": {
            "text/plain": [
              "(25723, 24)"
            ]
          },
          "metadata": {},
          "execution_count": 33
        }
      ]
    },
    {
      "cell_type": "code",
      "metadata": {
        "id": "VHz5-FBf7Jl5",
        "outputId": "f9424c72-2e87-4f37-c471-f2c5ebda0244",
        "colab": {
          "base_uri": "https://localhost:8080/",
          "height": 683
        }
      },
      "source": [
        "df.head()"
      ],
      "execution_count": 34,
      "outputs": [
        {
          "output_type": "execute_result",
          "data": {
            "text/plain": [
              "  Case Number         Date    Year        Type    Country             Area  \\\n",
              "0  2018.06.25  25-Jun-2018  2018.0     Boating        USA       California   \n",
              "1  2018.06.18  18-Jun-2018  2018.0  Unprovoked        USA          Georgia   \n",
              "2  2018.06.09  09-Jun-2018  2018.0     Invalid        USA           Hawaii   \n",
              "3  2018.06.08  08-Jun-2018  2018.0  Unprovoked  AUSTRALIA  New South Wales   \n",
              "4  2018.06.04  04-Jun-2018  2018.0    Provoked     MEXICO           Colima   \n",
              "\n",
              "                         Location     Activity             Name Sex  ...  \\\n",
              "0     Oceanside, San Diego County     Paddling      Julie Wolfe   F  ...   \n",
              "1  St. Simon Island, Glynn County     Standing  Adyson McNeely    F  ...   \n",
              "2                    Habush, Oahu      Surfing      John Denges   M  ...   \n",
              "3              Arrawarra Headland      Surfing             male   M  ...   \n",
              "4                        La Ticla  Free diving   Gustavo Ramos    M  ...   \n",
              "\n",
              "           Species          Investigator or Source                       pdf  \\\n",
              "0      White shark                R. Collier, GSAF      2018.06.25-Wolfe.pdf   \n",
              "1              NaN  K.McMurray, TrackingSharks.com    2018.06.18-McNeely.pdf   \n",
              "2              NaN  K.McMurray, TrackingSharks.com     2018.06.09-Denges.pdf   \n",
              "3        2 m shark                  B. Myatt, GSAF  2018.06.08-Arrawarra.pdf   \n",
              "4  Tiger shark, 3m                       A .Kipper      2018.06.04-Ramos.pdf   \n",
              "\n",
              "                                        href formula  \\\n",
              "0  http://sharkattackfile.net/spreadsheets/pdf_di...   \n",
              "1  http://sharkattackfile.net/spreadsheets/pdf_di...   \n",
              "2  http://sharkattackfile.net/spreadsheets/pdf_di...   \n",
              "3  http://sharkattackfile.net/spreadsheets/pdf_di...   \n",
              "4  http://sharkattackfile.net/spreadsheets/pdf_di...   \n",
              "\n",
              "                                                href Case Number.1  \\\n",
              "0  http://sharkattackfile.net/spreadsheets/pdf_di...    2018.06.25   \n",
              "1  http://sharkattackfile.net/spreadsheets/pdf_di...    2018.06.18   \n",
              "2  http://sharkattackfile.net/spreadsheets/pdf_di...    2018.06.09   \n",
              "3  http://sharkattackfile.net/spreadsheets/pdf_di...    2018.06.08   \n",
              "4  http://sharkattackfile.net/spreadsheets/pdf_di...    2018.06.04   \n",
              "\n",
              "  Case Number.2 original order Unnamed: 22 Unnamed: 23  \n",
              "0    2018.06.25         6303.0         NaN         NaN  \n",
              "1    2018.06.18         6302.0         NaN         NaN  \n",
              "2    2018.06.09         6301.0         NaN         NaN  \n",
              "3    2018.06.08         6300.0         NaN         NaN  \n",
              "4    2018.06.04         6299.0         NaN         NaN  \n",
              "\n",
              "[5 rows x 24 columns]"
            ],
            "text/html": "<div>\n<style scoped>\n    .dataframe tbody tr th:only-of-type {\n        vertical-align: middle;\n    }\n\n    .dataframe tbody tr th {\n        vertical-align: top;\n    }\n\n    .dataframe thead th {\n        text-align: right;\n    }\n</style>\n<table border=\"1\" class=\"dataframe\">\n  <thead>\n    <tr style=\"text-align: right;\">\n      <th></th>\n      <th>Case Number</th>\n      <th>Date</th>\n      <th>Year</th>\n      <th>Type</th>\n      <th>Country</th>\n      <th>Area</th>\n      <th>Location</th>\n      <th>Activity</th>\n      <th>Name</th>\n      <th>Sex</th>\n      <th>...</th>\n      <th>Species</th>\n      <th>Investigator or Source</th>\n      <th>pdf</th>\n      <th>href formula</th>\n      <th>href</th>\n      <th>Case Number.1</th>\n      <th>Case Number.2</th>\n      <th>original order</th>\n      <th>Unnamed: 22</th>\n      <th>Unnamed: 23</th>\n    </tr>\n  </thead>\n  <tbody>\n    <tr>\n      <th>0</th>\n      <td>2018.06.25</td>\n      <td>25-Jun-2018</td>\n      <td>2018.0</td>\n      <td>Boating</td>\n      <td>USA</td>\n      <td>California</td>\n      <td>Oceanside, San Diego County</td>\n      <td>Paddling</td>\n      <td>Julie Wolfe</td>\n      <td>F</td>\n      <td>...</td>\n      <td>White shark</td>\n      <td>R. Collier, GSAF</td>\n      <td>2018.06.25-Wolfe.pdf</td>\n      <td>http://sharkattackfile.net/spreadsheets/pdf_di...</td>\n      <td>http://sharkattackfile.net/spreadsheets/pdf_di...</td>\n      <td>2018.06.25</td>\n      <td>2018.06.25</td>\n      <td>6303.0</td>\n      <td>NaN</td>\n      <td>NaN</td>\n    </tr>\n    <tr>\n      <th>1</th>\n      <td>2018.06.18</td>\n      <td>18-Jun-2018</td>\n      <td>2018.0</td>\n      <td>Unprovoked</td>\n      <td>USA</td>\n      <td>Georgia</td>\n      <td>St. Simon Island, Glynn County</td>\n      <td>Standing</td>\n      <td>Adyson McNeely</td>\n      <td>F</td>\n      <td>...</td>\n      <td>NaN</td>\n      <td>K.McMurray, TrackingSharks.com</td>\n      <td>2018.06.18-McNeely.pdf</td>\n      <td>http://sharkattackfile.net/spreadsheets/pdf_di...</td>\n      <td>http://sharkattackfile.net/spreadsheets/pdf_di...</td>\n      <td>2018.06.18</td>\n      <td>2018.06.18</td>\n      <td>6302.0</td>\n      <td>NaN</td>\n      <td>NaN</td>\n    </tr>\n    <tr>\n      <th>2</th>\n      <td>2018.06.09</td>\n      <td>09-Jun-2018</td>\n      <td>2018.0</td>\n      <td>Invalid</td>\n      <td>USA</td>\n      <td>Hawaii</td>\n      <td>Habush, Oahu</td>\n      <td>Surfing</td>\n      <td>John Denges</td>\n      <td>M</td>\n      <td>...</td>\n      <td>NaN</td>\n      <td>K.McMurray, TrackingSharks.com</td>\n      <td>2018.06.09-Denges.pdf</td>\n      <td>http://sharkattackfile.net/spreadsheets/pdf_di...</td>\n      <td>http://sharkattackfile.net/spreadsheets/pdf_di...</td>\n      <td>2018.06.09</td>\n      <td>2018.06.09</td>\n      <td>6301.0</td>\n      <td>NaN</td>\n      <td>NaN</td>\n    </tr>\n    <tr>\n      <th>3</th>\n      <td>2018.06.08</td>\n      <td>08-Jun-2018</td>\n      <td>2018.0</td>\n      <td>Unprovoked</td>\n      <td>AUSTRALIA</td>\n      <td>New South Wales</td>\n      <td>Arrawarra Headland</td>\n      <td>Surfing</td>\n      <td>male</td>\n      <td>M</td>\n      <td>...</td>\n      <td>2 m shark</td>\n      <td>B. Myatt, GSAF</td>\n      <td>2018.06.08-Arrawarra.pdf</td>\n      <td>http://sharkattackfile.net/spreadsheets/pdf_di...</td>\n      <td>http://sharkattackfile.net/spreadsheets/pdf_di...</td>\n      <td>2018.06.08</td>\n      <td>2018.06.08</td>\n      <td>6300.0</td>\n      <td>NaN</td>\n      <td>NaN</td>\n    </tr>\n    <tr>\n      <th>4</th>\n      <td>2018.06.04</td>\n      <td>04-Jun-2018</td>\n      <td>2018.0</td>\n      <td>Provoked</td>\n      <td>MEXICO</td>\n      <td>Colima</td>\n      <td>La Ticla</td>\n      <td>Free diving</td>\n      <td>Gustavo Ramos</td>\n      <td>M</td>\n      <td>...</td>\n      <td>Tiger shark, 3m</td>\n      <td>A .Kipper</td>\n      <td>2018.06.04-Ramos.pdf</td>\n      <td>http://sharkattackfile.net/spreadsheets/pdf_di...</td>\n      <td>http://sharkattackfile.net/spreadsheets/pdf_di...</td>\n      <td>2018.06.04</td>\n      <td>2018.06.04</td>\n      <td>6299.0</td>\n      <td>NaN</td>\n      <td>NaN</td>\n    </tr>\n  </tbody>\n</table>\n<p>5 rows × 24 columns</p>\n</div>"
          },
          "metadata": {},
          "execution_count": 34
        }
      ]
    },
    {
      "cell_type": "code",
      "metadata": {
        "id": "-z2CJic7BWqB"
      },
      "source": [
        "# Limpieza básica de strings\n",
        "for column in df.columns[df.dtypes == object]:\n",
        "  df[column] = df[column].str.strip() # quitar espacios en blanco a izq y der\n",
        "  df[column] = df[column].str.lower() # todo a minúsculas\n",
        "df.replace(r'\\s+',' ', inplace = True, regex = True) # espacios multiples a espacio simple\n"
      ],
      "execution_count": 36,
      "outputs": []
    },
    {
      "cell_type": "code",
      "metadata": {
        "id": "gVxbzo3U96FI",
        "outputId": "e27f9169-3ca1-44aa-a8d4-0f80390ffc1c",
        "colab": {
          "base_uri": "https://localhost:8080/"
        }
      },
      "source": [
        "print(\"Cardinalidad de las variables\")\n",
        "for column in df.columns:\n",
        "  print(column,\"-\",df[column].nunique()/df[column].notna().sum())\n"
      ],
      "execution_count": 37,
      "outputs": [
        {
          "output_type": "stream",
          "name": "stdout",
          "text": [
            "Cardinalidad de las variables\nCase Number - 0.7224775913583085\nDate - 0.8606791494763567\nYear - 0.039523809523809524\nType - 0.0012702445220704986\nCountry - 0.032149712092130515\nArea - 0.13630921840259963\nLocation - 0.7023602915654287\nActivity - 0.2563390065995137\nName - 0.8562048588312541\nSex - 0.0008715356458079135\nAge - 0.042639008931143765\nInjury - 0.5782594835830411\nFatal (Y/N) - 0.0008676036786395974\nTime - 0.12008141112618724\nSpecies - 0.4102193995381062\nInvestigator or Source - 0.7820206841686556\npdf - 0.9982545223738496\nhref formula - 0.9982542453578797\nhref - 0.9973024436686766\nCase Number.1 - 0.9973024436686766\nCase Number.2 - 0.9974611234528721\noriginal order - 0.9998414962751625\nUnnamed: 22 - 1.0\nUnnamed: 23 - 1.0\n"
          ]
        }
      ]
    },
    {
      "cell_type": "code",
      "metadata": {
        "id": "CnCQFdUWDIfz",
        "outputId": "6ab1b8cd-df48-43e3-d51f-5b38e463d8e7",
        "colab": {
          "base_uri": "https://localhost:8080/",
          "height": 793
        }
      },
      "source": [
        "# procesar Date para extraer el mes\n",
        "pd.to_datetime(df.Date)"
      ],
      "execution_count": 38,
      "outputs": [
        {
          "output_type": "error",
          "ename": "ParserError",
          "evalue": "Unknown string format: reported 30-apr-2018",
          "traceback": [
            "\u001b[1;31m---------------------------------------------------------------------------\u001b[0m",
            "\u001b[1;31mTypeError\u001b[0m                                 Traceback (most recent call last)",
            "\u001b[1;32m~\\anaconda3\\lib\\site-packages\\pandas\\core\\arrays\\datetimes.py\u001b[0m in \u001b[0;36mobjects_to_datetime64ns\u001b[1;34m(data, dayfirst, yearfirst, utc, errors, require_iso8601, allow_object)\u001b[0m\n\u001b[0;32m   1857\u001b[0m         \u001b[1;32mtry\u001b[0m\u001b[1;33m:\u001b[0m\u001b[1;33m\u001b[0m\u001b[1;33m\u001b[0m\u001b[0m\n\u001b[1;32m-> 1858\u001b[1;33m             \u001b[0mvalues\u001b[0m\u001b[1;33m,\u001b[0m \u001b[0mtz_parsed\u001b[0m \u001b[1;33m=\u001b[0m \u001b[0mconversion\u001b[0m\u001b[1;33m.\u001b[0m\u001b[0mdatetime_to_datetime64\u001b[0m\u001b[1;33m(\u001b[0m\u001b[0mdata\u001b[0m\u001b[1;33m)\u001b[0m\u001b[1;33m\u001b[0m\u001b[1;33m\u001b[0m\u001b[0m\n\u001b[0m\u001b[0;32m   1859\u001b[0m             \u001b[1;31m# If tzaware, these values represent unix timestamps, so we\u001b[0m\u001b[1;33m\u001b[0m\u001b[1;33m\u001b[0m\u001b[1;33m\u001b[0m\u001b[0m\n",
            "\u001b[1;32mpandas\\_libs\\tslibs\\conversion.pyx\u001b[0m in \u001b[0;36mpandas._libs.tslibs.conversion.datetime_to_datetime64\u001b[1;34m()\u001b[0m\n",
            "\u001b[1;31mTypeError\u001b[0m: Unrecognized value type: <class 'str'>",
            "\nDuring handling of the above exception, another exception occurred:\n",
            "\u001b[1;31mParserError\u001b[0m                               Traceback (most recent call last)",
            "\u001b[1;32m<ipython-input-38-da207395306b>\u001b[0m in \u001b[0;36m<module>\u001b[1;34m\u001b[0m\n\u001b[0;32m      1\u001b[0m \u001b[1;31m# procesar Date para extraer el mes\u001b[0m\u001b[1;33m\u001b[0m\u001b[1;33m\u001b[0m\u001b[1;33m\u001b[0m\u001b[0m\n\u001b[1;32m----> 2\u001b[1;33m \u001b[0mpd\u001b[0m\u001b[1;33m.\u001b[0m\u001b[0mto_datetime\u001b[0m\u001b[1;33m(\u001b[0m\u001b[0mdf\u001b[0m\u001b[1;33m.\u001b[0m\u001b[0mDate\u001b[0m\u001b[1;33m)\u001b[0m\u001b[1;33m\u001b[0m\u001b[1;33m\u001b[0m\u001b[0m\n\u001b[0m",
            "\u001b[1;32m~\\anaconda3\\lib\\site-packages\\pandas\\core\\tools\\datetimes.py\u001b[0m in \u001b[0;36mto_datetime\u001b[1;34m(arg, errors, dayfirst, yearfirst, utc, format, exact, unit, infer_datetime_format, origin, cache)\u001b[0m\n\u001b[0;32m    726\u001b[0m             \u001b[0mresult\u001b[0m \u001b[1;33m=\u001b[0m \u001b[0marg\u001b[0m\u001b[1;33m.\u001b[0m\u001b[0mmap\u001b[0m\u001b[1;33m(\u001b[0m\u001b[0mcache_array\u001b[0m\u001b[1;33m)\u001b[0m\u001b[1;33m\u001b[0m\u001b[1;33m\u001b[0m\u001b[0m\n\u001b[0;32m    727\u001b[0m         \u001b[1;32melse\u001b[0m\u001b[1;33m:\u001b[0m\u001b[1;33m\u001b[0m\u001b[1;33m\u001b[0m\u001b[0m\n\u001b[1;32m--> 728\u001b[1;33m             \u001b[0mvalues\u001b[0m \u001b[1;33m=\u001b[0m \u001b[0mconvert_listlike\u001b[0m\u001b[1;33m(\u001b[0m\u001b[0marg\u001b[0m\u001b[1;33m.\u001b[0m\u001b[0m_values\u001b[0m\u001b[1;33m,\u001b[0m \u001b[0mformat\u001b[0m\u001b[1;33m)\u001b[0m\u001b[1;33m\u001b[0m\u001b[1;33m\u001b[0m\u001b[0m\n\u001b[0m\u001b[0;32m    729\u001b[0m             \u001b[0mresult\u001b[0m \u001b[1;33m=\u001b[0m \u001b[0marg\u001b[0m\u001b[1;33m.\u001b[0m\u001b[0m_constructor\u001b[0m\u001b[1;33m(\u001b[0m\u001b[0mvalues\u001b[0m\u001b[1;33m,\u001b[0m \u001b[0mindex\u001b[0m\u001b[1;33m=\u001b[0m\u001b[0marg\u001b[0m\u001b[1;33m.\u001b[0m\u001b[0mindex\u001b[0m\u001b[1;33m,\u001b[0m \u001b[0mname\u001b[0m\u001b[1;33m=\u001b[0m\u001b[0marg\u001b[0m\u001b[1;33m.\u001b[0m\u001b[0mname\u001b[0m\u001b[1;33m)\u001b[0m\u001b[1;33m\u001b[0m\u001b[1;33m\u001b[0m\u001b[0m\n\u001b[0;32m    730\u001b[0m     \u001b[1;32melif\u001b[0m \u001b[0misinstance\u001b[0m\u001b[1;33m(\u001b[0m\u001b[0marg\u001b[0m\u001b[1;33m,\u001b[0m \u001b[1;33m(\u001b[0m\u001b[0mABCDataFrame\u001b[0m\u001b[1;33m,\u001b[0m \u001b[0mabc\u001b[0m\u001b[1;33m.\u001b[0m\u001b[0mMutableMapping\u001b[0m\u001b[1;33m)\u001b[0m\u001b[1;33m)\u001b[0m\u001b[1;33m:\u001b[0m\u001b[1;33m\u001b[0m\u001b[1;33m\u001b[0m\u001b[0m\n",
            "\u001b[1;32m~\\anaconda3\\lib\\site-packages\\pandas\\core\\tools\\datetimes.py\u001b[0m in \u001b[0;36m_convert_listlike_datetimes\u001b[1;34m(arg, format, name, tz, unit, errors, infer_datetime_format, dayfirst, yearfirst, exact)\u001b[0m\n\u001b[0;32m    438\u001b[0m         \u001b[1;32massert\u001b[0m \u001b[0mformat\u001b[0m \u001b[1;32mis\u001b[0m \u001b[1;32mNone\u001b[0m \u001b[1;32mor\u001b[0m \u001b[0minfer_datetime_format\u001b[0m\u001b[1;33m\u001b[0m\u001b[1;33m\u001b[0m\u001b[0m\n\u001b[0;32m    439\u001b[0m         \u001b[0mutc\u001b[0m \u001b[1;33m=\u001b[0m \u001b[0mtz\u001b[0m \u001b[1;33m==\u001b[0m \u001b[1;34m\"utc\"\u001b[0m\u001b[1;33m\u001b[0m\u001b[1;33m\u001b[0m\u001b[0m\n\u001b[1;32m--> 440\u001b[1;33m         result, tz_parsed = objects_to_datetime64ns(\n\u001b[0m\u001b[0;32m    441\u001b[0m             \u001b[0marg\u001b[0m\u001b[1;33m,\u001b[0m\u001b[1;33m\u001b[0m\u001b[1;33m\u001b[0m\u001b[0m\n\u001b[0;32m    442\u001b[0m             \u001b[0mdayfirst\u001b[0m\u001b[1;33m=\u001b[0m\u001b[0mdayfirst\u001b[0m\u001b[1;33m,\u001b[0m\u001b[1;33m\u001b[0m\u001b[1;33m\u001b[0m\u001b[0m\n",
            "\u001b[1;32m~\\anaconda3\\lib\\site-packages\\pandas\\core\\arrays\\datetimes.py\u001b[0m in \u001b[0;36mobjects_to_datetime64ns\u001b[1;34m(data, dayfirst, yearfirst, utc, errors, require_iso8601, allow_object)\u001b[0m\n\u001b[0;32m   1861\u001b[0m             \u001b[1;32mreturn\u001b[0m \u001b[0mvalues\u001b[0m\u001b[1;33m.\u001b[0m\u001b[0mview\u001b[0m\u001b[1;33m(\u001b[0m\u001b[1;34m\"i8\"\u001b[0m\u001b[1;33m)\u001b[0m\u001b[1;33m,\u001b[0m \u001b[0mtz_parsed\u001b[0m\u001b[1;33m\u001b[0m\u001b[1;33m\u001b[0m\u001b[0m\n\u001b[0;32m   1862\u001b[0m         \u001b[1;32mexcept\u001b[0m \u001b[1;33m(\u001b[0m\u001b[0mValueError\u001b[0m\u001b[1;33m,\u001b[0m \u001b[0mTypeError\u001b[0m\u001b[1;33m)\u001b[0m\u001b[1;33m:\u001b[0m\u001b[1;33m\u001b[0m\u001b[1;33m\u001b[0m\u001b[0m\n\u001b[1;32m-> 1863\u001b[1;33m             \u001b[1;32mraise\u001b[0m \u001b[0me\u001b[0m\u001b[1;33m\u001b[0m\u001b[1;33m\u001b[0m\u001b[0m\n\u001b[0m\u001b[0;32m   1864\u001b[0m \u001b[1;33m\u001b[0m\u001b[0m\n\u001b[0;32m   1865\u001b[0m     \u001b[1;32mif\u001b[0m \u001b[0mtz_parsed\u001b[0m \u001b[1;32mis\u001b[0m \u001b[1;32mnot\u001b[0m \u001b[1;32mNone\u001b[0m\u001b[1;33m:\u001b[0m\u001b[1;33m\u001b[0m\u001b[1;33m\u001b[0m\u001b[0m\n",
            "\u001b[1;32m~\\anaconda3\\lib\\site-packages\\pandas\\core\\arrays\\datetimes.py\u001b[0m in \u001b[0;36mobjects_to_datetime64ns\u001b[1;34m(data, dayfirst, yearfirst, utc, errors, require_iso8601, allow_object)\u001b[0m\n\u001b[0;32m   1846\u001b[0m \u001b[1;33m\u001b[0m\u001b[0m\n\u001b[0;32m   1847\u001b[0m     \u001b[1;32mtry\u001b[0m\u001b[1;33m:\u001b[0m\u001b[1;33m\u001b[0m\u001b[1;33m\u001b[0m\u001b[0m\n\u001b[1;32m-> 1848\u001b[1;33m         result, tz_parsed = tslib.array_to_datetime(\n\u001b[0m\u001b[0;32m   1849\u001b[0m             \u001b[0mdata\u001b[0m\u001b[1;33m,\u001b[0m\u001b[1;33m\u001b[0m\u001b[1;33m\u001b[0m\u001b[0m\n\u001b[0;32m   1850\u001b[0m             \u001b[0merrors\u001b[0m\u001b[1;33m=\u001b[0m\u001b[0merrors\u001b[0m\u001b[1;33m,\u001b[0m\u001b[1;33m\u001b[0m\u001b[1;33m\u001b[0m\u001b[0m\n",
            "\u001b[1;32mpandas\\_libs\\tslib.pyx\u001b[0m in \u001b[0;36mpandas._libs.tslib.array_to_datetime\u001b[1;34m()\u001b[0m\n",
            "\u001b[1;32mpandas\\_libs\\tslib.pyx\u001b[0m in \u001b[0;36mpandas._libs.tslib.array_to_datetime\u001b[1;34m()\u001b[0m\n",
            "\u001b[1;32mpandas\\_libs\\tslib.pyx\u001b[0m in \u001b[0;36mpandas._libs.tslib.array_to_datetime_object\u001b[1;34m()\u001b[0m\n",
            "\u001b[1;32mpandas\\_libs\\tslib.pyx\u001b[0m in \u001b[0;36mpandas._libs.tslib.array_to_datetime_object\u001b[1;34m()\u001b[0m\n",
            "\u001b[1;32mpandas\\_libs\\tslibs\\parsing.pyx\u001b[0m in \u001b[0;36mpandas._libs.tslibs.parsing.parse_datetime_string\u001b[1;34m()\u001b[0m\n",
            "\u001b[1;32m~\\anaconda3\\lib\\site-packages\\dateutil\\parser\\_parser.py\u001b[0m in \u001b[0;36mparse\u001b[1;34m(timestr, parserinfo, **kwargs)\u001b[0m\n\u001b[0;32m   1372\u001b[0m         \u001b[1;32mreturn\u001b[0m \u001b[0mparser\u001b[0m\u001b[1;33m(\u001b[0m\u001b[0mparserinfo\u001b[0m\u001b[1;33m)\u001b[0m\u001b[1;33m.\u001b[0m\u001b[0mparse\u001b[0m\u001b[1;33m(\u001b[0m\u001b[0mtimestr\u001b[0m\u001b[1;33m,\u001b[0m \u001b[1;33m**\u001b[0m\u001b[0mkwargs\u001b[0m\u001b[1;33m)\u001b[0m\u001b[1;33m\u001b[0m\u001b[1;33m\u001b[0m\u001b[0m\n\u001b[0;32m   1373\u001b[0m     \u001b[1;32melse\u001b[0m\u001b[1;33m:\u001b[0m\u001b[1;33m\u001b[0m\u001b[1;33m\u001b[0m\u001b[0m\n\u001b[1;32m-> 1374\u001b[1;33m         \u001b[1;32mreturn\u001b[0m \u001b[0mDEFAULTPARSER\u001b[0m\u001b[1;33m.\u001b[0m\u001b[0mparse\u001b[0m\u001b[1;33m(\u001b[0m\u001b[0mtimestr\u001b[0m\u001b[1;33m,\u001b[0m \u001b[1;33m**\u001b[0m\u001b[0mkwargs\u001b[0m\u001b[1;33m)\u001b[0m\u001b[1;33m\u001b[0m\u001b[1;33m\u001b[0m\u001b[0m\n\u001b[0m\u001b[0;32m   1375\u001b[0m \u001b[1;33m\u001b[0m\u001b[0m\n\u001b[0;32m   1376\u001b[0m \u001b[1;33m\u001b[0m\u001b[0m\n",
            "\u001b[1;32m~\\anaconda3\\lib\\site-packages\\dateutil\\parser\\_parser.py\u001b[0m in \u001b[0;36mparse\u001b[1;34m(self, timestr, default, ignoretz, tzinfos, **kwargs)\u001b[0m\n\u001b[0;32m    647\u001b[0m \u001b[1;33m\u001b[0m\u001b[0m\n\u001b[0;32m    648\u001b[0m         \u001b[1;32mif\u001b[0m \u001b[0mres\u001b[0m \u001b[1;32mis\u001b[0m \u001b[1;32mNone\u001b[0m\u001b[1;33m:\u001b[0m\u001b[1;33m\u001b[0m\u001b[1;33m\u001b[0m\u001b[0m\n\u001b[1;32m--> 649\u001b[1;33m             \u001b[1;32mraise\u001b[0m \u001b[0mParserError\u001b[0m\u001b[1;33m(\u001b[0m\u001b[1;34m\"Unknown string format: %s\"\u001b[0m\u001b[1;33m,\u001b[0m \u001b[0mtimestr\u001b[0m\u001b[1;33m)\u001b[0m\u001b[1;33m\u001b[0m\u001b[1;33m\u001b[0m\u001b[0m\n\u001b[0m\u001b[0;32m    650\u001b[0m \u001b[1;33m\u001b[0m\u001b[0m\n\u001b[0;32m    651\u001b[0m         \u001b[1;32mif\u001b[0m \u001b[0mlen\u001b[0m\u001b[1;33m(\u001b[0m\u001b[0mres\u001b[0m\u001b[1;33m)\u001b[0m \u001b[1;33m==\u001b[0m \u001b[1;36m0\u001b[0m\u001b[1;33m:\u001b[0m\u001b[1;33m\u001b[0m\u001b[1;33m\u001b[0m\u001b[0m\n",
            "\u001b[1;31mParserError\u001b[0m: Unknown string format: reported 30-apr-2018"
          ]
        }
      ]
    },
    {
      "cell_type": "code",
      "metadata": {
        "id": "_BEXGE2aDafI",
        "outputId": "e6b66787-fc3f-4945-dbaa-313267ed4d38",
        "colab": {
          "base_uri": "https://localhost:8080/"
        }
      },
      "source": [
        "# hay strings que no cumplen un formato estándar\n",
        "df.Date[df.Date.str.len() != 11]"
      ],
      "execution_count": 39,
      "outputs": [
        {
          "output_type": "execute_result",
          "data": {
            "text/plain": [
              "14                   may 2018\n",
              "17       reported 30-apr-2018\n",
              "31       reported 10-apr-2018\n",
              "37                 9-mar-2018\n",
              "38                 9-mar-2018\n",
              "                 ...         \n",
              "25718                     NaN\n",
              "25719                     NaN\n",
              "25720                     NaN\n",
              "25721                     NaN\n",
              "25722                     NaN\n",
              "Name: Date, Length: 20836, dtype: object"
            ]
          },
          "metadata": {},
          "execution_count": 39
        }
      ]
    },
    {
      "cell_type": "code",
      "metadata": {
        "id": "ZW_bNhbZKSuQ"
      },
      "source": [
        "# extraemos los meses\n",
        "months = df.Date.str.findall(r'jan|feb|mar|apr|may|jun|jul|aug|sep|oct|nov|dec')\n",
        "months = months[months.notna()]\n",
        "df['month'] = months.apply(lambda x: x[0] if len(x) >= 1 else np.nan)"
      ],
      "execution_count": 40,
      "outputs": []
    },
    {
      "cell_type": "code",
      "metadata": {
        "id": "FBh9Xrh67LEC",
        "outputId": "842c459a-9716-472a-985e-f46fa553d53d",
        "colab": {
          "base_uri": "https://localhost:8080/"
        }
      },
      "source": [
        "# Variable de mantenimiendo de archivo\n",
        "df[df[\"Unnamed: 23\"].notna()][\"Unnamed: 23\"]"
      ],
      "execution_count": 41,
      "outputs": [
        {
          "output_type": "execute_result",
          "data": {
            "text/plain": [
              "4415             teramo\n",
              "5840    change filename\n",
              "Name: Unnamed: 23, dtype: object"
            ]
          },
          "metadata": {},
          "execution_count": 41
        }
      ]
    },
    {
      "cell_type": "code",
      "metadata": {
        "id": "P2SRT_ie7Rmh",
        "outputId": "8ba0c584-a8f6-4c39-9945-736deb11c698",
        "colab": {
          "base_uri": "https://localhost:8080/"
        }
      },
      "source": [
        "# Variable de mantenimiendo de archivo\n",
        "df[df[\"Unnamed: 22\"].notna()][\"Unnamed: 22\"]"
      ],
      "execution_count": 42,
      "outputs": [
        {
          "output_type": "execute_result",
          "data": {
            "text/plain": [
              "1478    stopped here\n",
              "Name: Unnamed: 22, dtype: object"
            ]
          },
          "metadata": {},
          "execution_count": 42
        }
      ]
    },
    {
      "cell_type": "code",
      "metadata": {
        "id": "V_3QGXWB-Djg",
        "outputId": "cb510910-12cf-4e97-a7a7-d7f1ed0067a0",
        "colab": {
          "base_uri": "https://localhost:8080/"
        }
      },
      "source": [
        "# A priori area pareceria no tener importancia, pero solo tiene 801 valores únicos\n",
        "# y Florida está sobrerrepresentada.\n",
        "# puede ser interesante tenerlo en cuenta (aunque puede haber sesgo de más registros en esa zona)\n",
        "df.Area.value_counts()"
      ],
      "execution_count": 43,
      "outputs": [
        {
          "output_type": "execute_result",
          "data": {
            "text/plain": [
              "florida                 1038\n",
              "new south wales          486\n",
              "queensland               312\n",
              "hawaii                   298\n",
              "california               290\n",
              "                        ... \n",
              "taipei hsien               1\n",
              "misamis oriental           1\n",
              "jakarta harbour            1\n",
              "teramo                     1\n",
              "antofagasta province       1\n",
              "Name: Area, Length: 797, dtype: int64"
            ]
          },
          "metadata": {},
          "execution_count": 43
        }
      ]
    },
    {
      "cell_type": "code",
      "metadata": {
        "id": "8qy5EfOdA7Nb",
        "outputId": "23b62f36-2786-4e59-e6e5-89d9aed5df60",
        "colab": {
          "base_uri": "https://localhost:8080/"
        }
      },
      "source": [
        "# Podemos tomar las actividades más populares y agrupar el resto\n",
        "# Cuantas tienen más de 50 casos?\n",
        "df.Activity.value_counts()[df.Activity.value_counts() > 50]"
      ],
      "execution_count": 44,
      "outputs": [
        {
          "output_type": "execute_result",
          "data": {
            "text/plain": [
              "surfing          976\n",
              "swimming         916\n",
              "fishing          444\n",
              "spearfishing     340\n",
              "bathing          165\n",
              "wading           149\n",
              "diving           130\n",
              "standing         101\n",
              "scuba diving      91\n",
              "snorkeling        89\n",
              "body boarding     65\n",
              "Name: Activity, dtype: int64"
            ]
          },
          "metadata": {},
          "execution_count": 44
        }
      ]
    },
    {
      "cell_type": "code",
      "metadata": {
        "id": "JkKOGgCpwQIK",
        "outputId": "a986bd31-c4a2-4a09-d02b-a79913dab32d",
        "colab": {
          "base_uri": "https://localhost:8080/"
        }
      },
      "source": [
        "# las descripciones de las heridas son demasiado específicas salvo para lo que ya está codificado en Fatal\n",
        "df.Injury.value_counts()"
      ],
      "execution_count": 45,
      "outputs": [
        {
          "output_type": "execute_result",
          "data": {
            "text/plain": [
              "fatal                                              815\n",
              "survived                                            97\n",
              "no injury                                           90\n",
              "foot bitten                                         87\n",
              "leg bitten                                          75\n",
              "                                                  ... \n",
              "human remains washed ahore                           1\n",
              "left forearm bitten, surgically amputated?           1\n",
              "shark jumped into cockpit                            1\n",
              "no injury to occupants; shark struck their boat      1\n",
              "legs bitten fatal                                    1\n",
              "Name: Injury, Length: 3628, dtype: int64"
            ]
          },
          "metadata": {},
          "execution_count": 45
        }
      ]
    },
    {
      "cell_type": "code",
      "metadata": {
        "id": "rXI3n_8iyqN9",
        "outputId": "ccf24c99-7db5-4d4d-e71b-d36dfaf83a42",
        "colab": {
          "base_uri": "https://localhost:8080/"
        }
      },
      "source": [
        "# La hora del día está codificada de formas irregulares y hay 354 valores distintos\n",
        "df.Time.value_counts()"
      ],
      "execution_count": 46,
      "outputs": [
        {
          "output_type": "execute_result",
          "data": {
            "text/plain": [
              "afternoon        187\n",
              "11h00            128\n",
              "morning          122\n",
              "12h00            109\n",
              "15h00            108\n",
              "                ... \n",
              "14h37              1\n",
              "06h47              1\n",
              "\"after lunch\"      1\n",
              "12h39              1\n",
              "12h55              1\n",
              "Name: Time, Length: 354, dtype: int64"
            ]
          },
          "metadata": {},
          "execution_count": 46
        }
      ]
    },
    {
      "cell_type": "code",
      "metadata": {
        "id": "YK8SsEEczNXx",
        "outputId": "ce22f2a8-e43c-4efa-c78b-65cc1b3ed861",
        "colab": {
          "base_uri": "https://localhost:8080/"
        }
      },
      "source": [
        "# Las especies no tienen un formato consistente\n",
        "df.Species.value_counts()"
      ],
      "execution_count": 47,
      "outputs": [
        {
          "output_type": "execute_result",
          "data": {
            "text/plain": [
              "white shark                                                 165\n",
              "shark involvement prior to death was not confirmed          105\n",
              "invalid                                                     102\n",
              "shark involvement not confirmed                              90\n",
              "tiger shark                                                  74\n",
              "                                                           ... \n",
              "2 m to 2.5 m [6.75' to 8.25'] sixgill or sevengill shark      1\n",
              "lemon shark, 2.5m to 3m                                       1\n",
              "3 bull sharks                                                 1\n",
              "8' bull shark or caribbean reef shark                         1\n",
              "hammerhead shark, 500-llb                                     1\n",
              "Name: Species, Length: 1421, dtype: int64"
            ]
          },
          "metadata": {},
          "execution_count": 47
        }
      ]
    },
    {
      "cell_type": "code",
      "metadata": {
        "id": "J55LelIJ8i0C",
        "outputId": "a077fb06-77f0-4d27-bfd7-b5ae9a18ffe3",
        "colab": {
          "base_uri": "https://localhost:8080/",
          "height": 352
        }
      },
      "source": [
        "# Case number parece ser la fecha, ya codificada en Date, y no aporta información\n",
        "# El año no nos interesa\n",
        "# Los nombres no aportan información, ni los de los investigadores, ni la edad\n",
        "# los enlaces a la descripción de los casos, y demás, tampoco\n",
        "df.drop(columns = df.columns[15:-1], inplace = True)\n",
        "df.drop(columns = [\"Case Number\", \"Name\", \"Age\", \"Date\", \"Year\", \"Location\", \"Injury\", \"Species\", \"Time\"], inplace = True)\n",
        "df.head()"
      ],
      "execution_count": 48,
      "outputs": [
        {
          "output_type": "execute_result",
          "data": {
            "text/plain": [
              "         Type    Country             Area     Activity Sex Fatal (Y/N) month\n",
              "0     boating        usa       california     paddling   f           n   jun\n",
              "1  unprovoked        usa          georgia     standing   f           n   jun\n",
              "2     invalid        usa           hawaii      surfing   m           n   jun\n",
              "3  unprovoked  australia  new south wales      surfing   m           n   jun\n",
              "4    provoked     mexico           colima  free diving   m           n   jun"
            ],
            "text/html": "<div>\n<style scoped>\n    .dataframe tbody tr th:only-of-type {\n        vertical-align: middle;\n    }\n\n    .dataframe tbody tr th {\n        vertical-align: top;\n    }\n\n    .dataframe thead th {\n        text-align: right;\n    }\n</style>\n<table border=\"1\" class=\"dataframe\">\n  <thead>\n    <tr style=\"text-align: right;\">\n      <th></th>\n      <th>Type</th>\n      <th>Country</th>\n      <th>Area</th>\n      <th>Activity</th>\n      <th>Sex</th>\n      <th>Fatal (Y/N)</th>\n      <th>month</th>\n    </tr>\n  </thead>\n  <tbody>\n    <tr>\n      <th>0</th>\n      <td>boating</td>\n      <td>usa</td>\n      <td>california</td>\n      <td>paddling</td>\n      <td>f</td>\n      <td>n</td>\n      <td>jun</td>\n    </tr>\n    <tr>\n      <th>1</th>\n      <td>unprovoked</td>\n      <td>usa</td>\n      <td>georgia</td>\n      <td>standing</td>\n      <td>f</td>\n      <td>n</td>\n      <td>jun</td>\n    </tr>\n    <tr>\n      <th>2</th>\n      <td>invalid</td>\n      <td>usa</td>\n      <td>hawaii</td>\n      <td>surfing</td>\n      <td>m</td>\n      <td>n</td>\n      <td>jun</td>\n    </tr>\n    <tr>\n      <th>3</th>\n      <td>unprovoked</td>\n      <td>australia</td>\n      <td>new south wales</td>\n      <td>surfing</td>\n      <td>m</td>\n      <td>n</td>\n      <td>jun</td>\n    </tr>\n    <tr>\n      <th>4</th>\n      <td>provoked</td>\n      <td>mexico</td>\n      <td>colima</td>\n      <td>free diving</td>\n      <td>m</td>\n      <td>n</td>\n      <td>jun</td>\n    </tr>\n  </tbody>\n</table>\n</div>"
          },
          "metadata": {},
          "execution_count": 48
        }
      ]
    },
    {
      "cell_type": "code",
      "metadata": {
        "id": "eZzjhYIs8t7C",
        "outputId": "7245cb0a-63c0-4bfc-e7a0-505d91f801f0",
        "colab": {
          "base_uri": "https://localhost:8080/"
        }
      },
      "source": [
        "# missing\n",
        "100*df.isna().sum(axis = 0)/df.shape[0]"
      ],
      "execution_count": 49,
      "outputs": [
        {
          "output_type": "execute_result",
          "data": {
            "text/plain": [
              "Type           75.516075\n",
              "Country        75.694903\n",
              "Area           77.269370\n",
              "Activity       77.615364\n",
              "Sex            77.697003\n",
              "Fatal (Y/N)    77.595926\n",
              "month          77.518174\n",
              "dtype: float64"
            ]
          },
          "metadata": {},
          "execution_count": 49
        }
      ]
    },
    {
      "cell_type": "code",
      "metadata": {
        "id": "GPnMHQV08yc5"
      },
      "source": [
        "df.dropna(inplace = True)"
      ],
      "execution_count": 50,
      "outputs": []
    },
    {
      "cell_type": "code",
      "metadata": {
        "id": "v-h_-KmS2KaQ",
        "outputId": "8e496699-124d-4fb9-88a3-264fc54bbe9d",
        "colab": {
          "base_uri": "https://localhost:8080/"
        }
      },
      "source": [
        "df.Country.value_counts()[:30]"
      ],
      "execution_count": 51,
      "outputs": [
        {
          "output_type": "execute_result",
          "data": {
            "text/plain": [
              "usa                 1802\n",
              "australia            983\n",
              "south africa         432\n",
              "new zealand           92\n",
              "brazil                79\n",
              "papua new guinea      73\n",
              "bahamas               72\n",
              "mexico                63\n",
              "reunion               40\n",
              "italy                 35\n",
              "fiji                  34\n",
              "mozambique            32\n",
              "philippines           31\n",
              "cuba                  26\n",
              "new caledonia         26\n",
              "egypt                 24\n",
              "spain                 24\n",
              "french polynesia      22\n",
              "panama                22\n",
              "india                 19\n",
              "croatia               18\n",
              "solomon islands       14\n",
              "hong kong             14\n",
              "japan                 14\n",
              "england               14\n",
              "indonesia             13\n",
              "tonga                 12\n",
              "costa rica            12\n",
              "jamaica               11\n",
              "pacific ocean          9\n",
              "Name: Country, dtype: int64"
            ]
          },
          "metadata": {},
          "execution_count": 51
        }
      ]
    },
    {
      "cell_type": "code",
      "metadata": {
        "id": "gCvkvwM72mu2"
      },
      "source": [
        "# Codificamos los 30 países más comunes por hemisferio (norte/sur)\n",
        "# el resto los codificamos como otro\n",
        "hemisferio = {\n",
        "    \"usa\" : \"norte\",\n",
        "    \"australia\" : \"sur\",\n",
        "    \"south africa\" : \"sur\",\n",
        "    \"papua new guinea\" : \"sur\",\n",
        "    \"new zealand\" : \"sur\",\n",
        "    \"brazil\" : \"sur\",\n",
        "    \"bahamas\" : \"norte\",\n",
        "    \"mexico\" : \"norte\",\n",
        "    \"italy\" : \"norte\",\n",
        "    \"reunion\" : \"sur\",\n",
        "    \"fiji\" : \"sur\",\n",
        "    \"mozambique\" : \"sur\",\n",
        "    \"philippines\" : \"sur\",\n",
        "    \"cuba\" : \"norte\",\n",
        "    \"new caledonia\" : \"sur\",\n",
        "    \"spain\" : \"norte\",\n",
        "    \"panama\" : \"norte\",\n",
        "    \"egypt\" : \"norte\",\n",
        "    \"india\" : \"sur\",\n",
        "    \"french polynesia\" : \"sur\",\n",
        "    \"croatia\" : \"norte\",\n",
        "    \"indonesia\" : \"sur\",\n",
        "    \"solomon islands\" : \"sur\",\n",
        "    \"japan\" : \"norte\",\n",
        "    \"greece\" : \"norte\",\n",
        "    \"tonga\" : \"sur\",\n",
        "    \"hong kong\" : \"norte\",\n",
        "    \"england\" : \"norte\",\n",
        "    \"iran\" : \"norte\",\n",
        "    \"jamaica\" : \"norte\"\n",
        "}\n",
        "\n",
        "def func_hemisferio(pais):\n",
        "  if pais in hemisferio.keys():\n",
        "    return hemisferio[pais]\n",
        "  else:\n",
        "    return 'otro'\n",
        "\n",
        "df['hemisferio'] = df.Country.apply(func_hemisferio)"
      ],
      "execution_count": 52,
      "outputs": []
    },
    {
      "cell_type": "code",
      "metadata": {
        "id": "XoB8qHvR5eIi",
        "outputId": "3ef0b89d-dab6-4ba2-e965-54f9c03c66d3",
        "colab": {
          "base_uri": "https://localhost:8080/"
        }
      },
      "source": [
        "df['hemisferio'].value_counts()"
      ],
      "execution_count": 53,
      "outputs": [
        {
          "output_type": "execute_result",
          "data": {
            "text/plain": [
              "norte    2156\n",
              "sur      1902\n",
              "otro      299\n",
              "Name: hemisferio, dtype: int64"
            ]
          },
          "metadata": {},
          "execution_count": 53
        }
      ]
    },
    {
      "cell_type": "code",
      "metadata": {
        "id": "tP5FTUHd6B9O"
      },
      "source": [
        "# Agrupemos el resto de valores\n",
        "df.loc[df[\"Fatal (Y/N)\"].apply(lambda x: x not in ['y', 'n']),'Fatal (Y/N)'] = 'unknown'\n",
        "df.loc[df.Sex.apply(lambda x: x not in ['m', 'f']),'Sex'] = 'unknown'"
      ],
      "execution_count": 54,
      "outputs": []
    },
    {
      "cell_type": "code",
      "metadata": {
        "id": "NNl90aQX6cb_"
      },
      "source": [
        "other_activities = df.Activity.value_counts()[df.Activity.value_counts() < 50].index\n",
        "df.Activity = df.Activity.apply(lambda x : 'other' if x in other_activities else x)"
      ],
      "execution_count": 55,
      "outputs": []
    },
    {
      "cell_type": "code",
      "metadata": {
        "id": "_mjesH917Ye6"
      },
      "source": [
        "areas_principales = df.Area.value_counts()[:15].index\n",
        "df.Area = df.Area.apply(lambda x: 'other' if x not in areas_principales else x)"
      ],
      "execution_count": 56,
      "outputs": []
    },
    {
      "cell_type": "code",
      "metadata": {
        "id": "zbqySXQuBGWf"
      },
      "source": [
        "df.to_csv(\"sharks_limpio.csv\")"
      ],
      "execution_count": 57,
      "outputs": []
    },
    {
      "cell_type": "code",
      "execution_count": null,
      "metadata": {},
      "outputs": [],
      "source": []
    },
    {
      "cell_type": "code",
      "execution_count": null,
      "metadata": {},
      "outputs": [],
      "source": []
    }
  ]
}