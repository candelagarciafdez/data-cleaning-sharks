{
  "nbformat": 4,
  "nbformat_minor": 0,
  "metadata": {
    "colab": {
      "name": "clean.ipynb",
      "provenance": [],
      "collapsed_sections": []
    },
    "kernelspec": {
      "name": "python3",
      "display_name": "Python 3"
    }
  },
  "cells": [
    {
      "cell_type": "code",
      "metadata": {
        "id": "E1aooZWc6X2t"
      },
      "source": [
        "import pandas as pd\n",
        "import regex as re"
      ],
      "execution_count": 177,
      "outputs": []
    },
    {
      "cell_type": "code",
      "metadata": {
        "id": "awUpC0y06-sV"
      },
      "source": [
        "df = pd.read_csv(\"~/Desktop/attacks.csv\", encoding=\"latin-1\")"
      ],
      "execution_count": 178,
      "outputs": []
    },
    {
      "cell_type": "code",
      "metadata": {
        "id": "mWpCE5nq7DXM",
        "outputId": "aa9ec55f-f8b0-45fd-c7f1-a6ef463593c9",
        "colab": {
          "base_uri": "https://localhost:8080/"
        }
      },
      "source": [
        "df.columns"
      ],
      "execution_count": 179,
      "outputs": [
        {
          "output_type": "execute_result",
          "data": {
            "text/plain": [
              "Index(['Case Number', 'Date', 'Year', 'Type', 'Country', 'Area', 'Location',\n",
              "       'Activity', 'Name', 'Sex ', 'Age', 'Injury', 'Fatal (Y/N)', 'Time',\n",
              "       'Species ', 'Investigator or Source', 'pdf', 'href formula', 'href',\n",
              "       'Case Number.1', 'Case Number.2', 'original order', 'Unnamed: 22',\n",
              "       'Unnamed: 23'],\n",
              "      dtype='object')"
            ]
          },
          "metadata": {
            "tags": []
          },
          "execution_count": 179
        }
      ]
    },
    {
      "cell_type": "code",
      "metadata": {
        "id": "jaNsk0ex1Fvm"
      },
      "source": [
        "# el nombre de Species tiene un espacio a la derecha\n",
        "# genericamente quitamos los espacios a los lados\n",
        "df.columns = df.columns.str.strip()"
      ],
      "execution_count": 180,
      "outputs": []
    },
    {
      "cell_type": "code",
      "metadata": {
        "id": "1UAw_FYb7UNX",
        "outputId": "dac83e2d-5f38-4ebe-85c6-f8380aca0b12",
        "colab": {
          "base_uri": "https://localhost:8080/"
        }
      },
      "source": [
        "df.shape"
      ],
      "execution_count": 181,
      "outputs": [
        {
          "output_type": "execute_result",
          "data": {
            "text/plain": [
              "(25723, 24)"
            ]
          },
          "metadata": {
            "tags": []
          },
          "execution_count": 181
        }
      ]
    },
    {
      "cell_type": "code",
      "metadata": {
        "id": "VHz5-FBf7Jl5",
        "outputId": "f9424c72-2e87-4f37-c471-f2c5ebda0244",
        "colab": {
          "base_uri": "https://localhost:8080/",
          "height": 683
        }
      },
      "source": [
        "df.head()"
      ],
      "execution_count": 182,
      "outputs": [
        {
          "output_type": "execute_result",
          "data": {
            "text/html": [
              "<div>\n",
              "<style scoped>\n",
              "    .dataframe tbody tr th:only-of-type {\n",
              "        vertical-align: middle;\n",
              "    }\n",
              "\n",
              "    .dataframe tbody tr th {\n",
              "        vertical-align: top;\n",
              "    }\n",
              "\n",
              "    .dataframe thead th {\n",
              "        text-align: right;\n",
              "    }\n",
              "</style>\n",
              "<table border=\"1\" class=\"dataframe\">\n",
              "  <thead>\n",
              "    <tr style=\"text-align: right;\">\n",
              "      <th></th>\n",
              "      <th>Case Number</th>\n",
              "      <th>Date</th>\n",
              "      <th>Year</th>\n",
              "      <th>Type</th>\n",
              "      <th>Country</th>\n",
              "      <th>Area</th>\n",
              "      <th>Location</th>\n",
              "      <th>Activity</th>\n",
              "      <th>Name</th>\n",
              "      <th>Sex</th>\n",
              "      <th>Age</th>\n",
              "      <th>Injury</th>\n",
              "      <th>Fatal (Y/N)</th>\n",
              "      <th>Time</th>\n",
              "      <th>Species</th>\n",
              "      <th>Investigator or Source</th>\n",
              "      <th>pdf</th>\n",
              "      <th>href formula</th>\n",
              "      <th>href</th>\n",
              "      <th>Case Number.1</th>\n",
              "      <th>Case Number.2</th>\n",
              "      <th>original order</th>\n",
              "      <th>Unnamed: 22</th>\n",
              "      <th>Unnamed: 23</th>\n",
              "    </tr>\n",
              "  </thead>\n",
              "  <tbody>\n",
              "    <tr>\n",
              "      <th>0</th>\n",
              "      <td>2018.06.25</td>\n",
              "      <td>25-Jun-2018</td>\n",
              "      <td>2018.0</td>\n",
              "      <td>Boating</td>\n",
              "      <td>USA</td>\n",
              "      <td>California</td>\n",
              "      <td>Oceanside, San Diego County</td>\n",
              "      <td>Paddling</td>\n",
              "      <td>Julie Wolfe</td>\n",
              "      <td>F</td>\n",
              "      <td>57</td>\n",
              "      <td>No injury to occupant, outrigger canoe and pad...</td>\n",
              "      <td>N</td>\n",
              "      <td>18h00</td>\n",
              "      <td>White shark</td>\n",
              "      <td>R. Collier, GSAF</td>\n",
              "      <td>2018.06.25-Wolfe.pdf</td>\n",
              "      <td>http://sharkattackfile.net/spreadsheets/pdf_di...</td>\n",
              "      <td>http://sharkattackfile.net/spreadsheets/pdf_di...</td>\n",
              "      <td>2018.06.25</td>\n",
              "      <td>2018.06.25</td>\n",
              "      <td>6303.0</td>\n",
              "      <td>NaN</td>\n",
              "      <td>NaN</td>\n",
              "    </tr>\n",
              "    <tr>\n",
              "      <th>1</th>\n",
              "      <td>2018.06.18</td>\n",
              "      <td>18-Jun-2018</td>\n",
              "      <td>2018.0</td>\n",
              "      <td>Unprovoked</td>\n",
              "      <td>USA</td>\n",
              "      <td>Georgia</td>\n",
              "      <td>St. Simon Island, Glynn County</td>\n",
              "      <td>Standing</td>\n",
              "      <td>Adyson McNeely</td>\n",
              "      <td>F</td>\n",
              "      <td>11</td>\n",
              "      <td>Minor injury to left thigh</td>\n",
              "      <td>N</td>\n",
              "      <td>14h00  -15h00</td>\n",
              "      <td>NaN</td>\n",
              "      <td>K.McMurray, TrackingSharks.com</td>\n",
              "      <td>2018.06.18-McNeely.pdf</td>\n",
              "      <td>http://sharkattackfile.net/spreadsheets/pdf_di...</td>\n",
              "      <td>http://sharkattackfile.net/spreadsheets/pdf_di...</td>\n",
              "      <td>2018.06.18</td>\n",
              "      <td>2018.06.18</td>\n",
              "      <td>6302.0</td>\n",
              "      <td>NaN</td>\n",
              "      <td>NaN</td>\n",
              "    </tr>\n",
              "    <tr>\n",
              "      <th>2</th>\n",
              "      <td>2018.06.09</td>\n",
              "      <td>09-Jun-2018</td>\n",
              "      <td>2018.0</td>\n",
              "      <td>Invalid</td>\n",
              "      <td>USA</td>\n",
              "      <td>Hawaii</td>\n",
              "      <td>Habush, Oahu</td>\n",
              "      <td>Surfing</td>\n",
              "      <td>John Denges</td>\n",
              "      <td>M</td>\n",
              "      <td>48</td>\n",
              "      <td>Injury to left lower leg from surfboard skeg</td>\n",
              "      <td>N</td>\n",
              "      <td>07h45</td>\n",
              "      <td>NaN</td>\n",
              "      <td>K.McMurray, TrackingSharks.com</td>\n",
              "      <td>2018.06.09-Denges.pdf</td>\n",
              "      <td>http://sharkattackfile.net/spreadsheets/pdf_di...</td>\n",
              "      <td>http://sharkattackfile.net/spreadsheets/pdf_di...</td>\n",
              "      <td>2018.06.09</td>\n",
              "      <td>2018.06.09</td>\n",
              "      <td>6301.0</td>\n",
              "      <td>NaN</td>\n",
              "      <td>NaN</td>\n",
              "    </tr>\n",
              "    <tr>\n",
              "      <th>3</th>\n",
              "      <td>2018.06.08</td>\n",
              "      <td>08-Jun-2018</td>\n",
              "      <td>2018.0</td>\n",
              "      <td>Unprovoked</td>\n",
              "      <td>AUSTRALIA</td>\n",
              "      <td>New South Wales</td>\n",
              "      <td>Arrawarra Headland</td>\n",
              "      <td>Surfing</td>\n",
              "      <td>male</td>\n",
              "      <td>M</td>\n",
              "      <td>NaN</td>\n",
              "      <td>Minor injury to lower leg</td>\n",
              "      <td>N</td>\n",
              "      <td>NaN</td>\n",
              "      <td>2 m shark</td>\n",
              "      <td>B. Myatt, GSAF</td>\n",
              "      <td>2018.06.08-Arrawarra.pdf</td>\n",
              "      <td>http://sharkattackfile.net/spreadsheets/pdf_di...</td>\n",
              "      <td>http://sharkattackfile.net/spreadsheets/pdf_di...</td>\n",
              "      <td>2018.06.08</td>\n",
              "      <td>2018.06.08</td>\n",
              "      <td>6300.0</td>\n",
              "      <td>NaN</td>\n",
              "      <td>NaN</td>\n",
              "    </tr>\n",
              "    <tr>\n",
              "      <th>4</th>\n",
              "      <td>2018.06.04</td>\n",
              "      <td>04-Jun-2018</td>\n",
              "      <td>2018.0</td>\n",
              "      <td>Provoked</td>\n",
              "      <td>MEXICO</td>\n",
              "      <td>Colima</td>\n",
              "      <td>La Ticla</td>\n",
              "      <td>Free diving</td>\n",
              "      <td>Gustavo Ramos</td>\n",
              "      <td>M</td>\n",
              "      <td>NaN</td>\n",
              "      <td>Lacerations to leg &amp; hand shark PROVOKED INCIDENT</td>\n",
              "      <td>N</td>\n",
              "      <td>NaN</td>\n",
              "      <td>Tiger shark, 3m</td>\n",
              "      <td>A .Kipper</td>\n",
              "      <td>2018.06.04-Ramos.pdf</td>\n",
              "      <td>http://sharkattackfile.net/spreadsheets/pdf_di...</td>\n",
              "      <td>http://sharkattackfile.net/spreadsheets/pdf_di...</td>\n",
              "      <td>2018.06.04</td>\n",
              "      <td>2018.06.04</td>\n",
              "      <td>6299.0</td>\n",
              "      <td>NaN</td>\n",
              "      <td>NaN</td>\n",
              "    </tr>\n",
              "  </tbody>\n",
              "</table>\n",
              "</div>"
            ],
            "text/plain": [
              "  Case Number         Date    Year  ... original order Unnamed: 22 Unnamed: 23\n",
              "0  2018.06.25  25-Jun-2018  2018.0  ...         6303.0         NaN         NaN\n",
              "1  2018.06.18  18-Jun-2018  2018.0  ...         6302.0         NaN         NaN\n",
              "2  2018.06.09  09-Jun-2018  2018.0  ...         6301.0         NaN         NaN\n",
              "3  2018.06.08  08-Jun-2018  2018.0  ...         6300.0         NaN         NaN\n",
              "4  2018.06.04  04-Jun-2018  2018.0  ...         6299.0         NaN         NaN\n",
              "\n",
              "[5 rows x 24 columns]"
            ]
          },
          "metadata": {
            "tags": []
          },
          "execution_count": 182
        }
      ]
    },
    {
      "cell_type": "code",
      "metadata": {
        "id": "-z2CJic7BWqB"
      },
      "source": [
        "# Limpieza básica de strings\n",
        "for column in df.columns[df.dtypes == object]:\n",
        "  df[column] = df[column].str.strip() # quitar espacios en blanco a izq y der\n",
        "  df[column] = df[column].str.lower() # todo a minúsculas\n",
        "df.replace(r'\\s+',' ', inplace = True, regex = True) # espacios multiples a espacio simple\n"
      ],
      "execution_count": 183,
      "outputs": []
    },
    {
      "cell_type": "code",
      "metadata": {
        "id": "gVxbzo3U96FI",
        "outputId": "e27f9169-3ca1-44aa-a8d4-0f80390ffc1c",
        "colab": {
          "base_uri": "https://localhost:8080/"
        }
      },
      "source": [
        "print(\"Cardinalidad de las variables\")\n",
        "for column in df.columns:\n",
        "  print(column,\"-\",df[column].nunique()/df[column].notna().sum())\n"
      ],
      "execution_count": 184,
      "outputs": [
        {
          "output_type": "stream",
          "text": [
            "Cardinalidad de las variables\n",
            "Case Number - 0.7224775913583085\n",
            "Date - 0.8606791494763567\n",
            "Year - 0.039523809523809524\n",
            "Type - 0.0012702445220704986\n",
            "Country - 0.032149712092130515\n",
            "Area - 0.13630921840259963\n",
            "Location - 0.7023602915654287\n",
            "Activity - 0.2563390065995137\n",
            "Name - 0.8562048588312541\n",
            "Sex - 0.0008715356458079135\n",
            "Age - 0.042639008931143765\n",
            "Injury - 0.5782594835830411\n",
            "Fatal (Y/N) - 0.0008676036786395974\n",
            "Time - 0.12008141112618724\n",
            "Species - 0.4102193995381062\n",
            "Investigator or Source - 0.7820206841686556\n",
            "pdf - 0.9982545223738496\n",
            "href formula - 0.9982542453578797\n",
            "href - 0.9973024436686766\n",
            "Case Number.1 - 0.9973024436686766\n",
            "Case Number.2 - 0.9974611234528721\n",
            "original order - 0.9998414962751625\n",
            "Unnamed: 22 - 1.0\n",
            "Unnamed: 23 - 1.0\n"
          ],
          "name": "stdout"
        }
      ]
    },
    {
      "cell_type": "code",
      "metadata": {
        "id": "CnCQFdUWDIfz",
        "outputId": "6ab1b8cd-df48-43e3-d51f-5b38e463d8e7",
        "colab": {
          "base_uri": "https://localhost:8080/",
          "height": 793
        }
      },
      "source": [
        "# procesar Date para extraer el mes\n",
        "pd.to_datetime(df.Date)"
      ],
      "execution_count": 185,
      "outputs": [
        {
          "output_type": "error",
          "ename": "ParserError",
          "evalue": "ignored",
          "traceback": [
            "\u001b[0;31m---------------------------------------------------------------------------\u001b[0m",
            "\u001b[0;31mTypeError\u001b[0m                                 Traceback (most recent call last)",
            "\u001b[0;32m/usr/local/lib/python3.6/dist-packages/pandas/core/arrays/datetimes.py\u001b[0m in \u001b[0;36mobjects_to_datetime64ns\u001b[0;34m(data, dayfirst, yearfirst, utc, errors, require_iso8601, allow_object)\u001b[0m\n\u001b[1;32m   2053\u001b[0m         \u001b[0;32mtry\u001b[0m\u001b[0;34m:\u001b[0m\u001b[0;34m\u001b[0m\u001b[0;34m\u001b[0m\u001b[0m\n\u001b[0;32m-> 2054\u001b[0;31m             \u001b[0mvalues\u001b[0m\u001b[0;34m,\u001b[0m \u001b[0mtz_parsed\u001b[0m \u001b[0;34m=\u001b[0m \u001b[0mconversion\u001b[0m\u001b[0;34m.\u001b[0m\u001b[0mdatetime_to_datetime64\u001b[0m\u001b[0;34m(\u001b[0m\u001b[0mdata\u001b[0m\u001b[0;34m)\u001b[0m\u001b[0;34m\u001b[0m\u001b[0;34m\u001b[0m\u001b[0m\n\u001b[0m\u001b[1;32m   2055\u001b[0m             \u001b[0;31m# If tzaware, these values represent unix timestamps, so we\u001b[0m\u001b[0;34m\u001b[0m\u001b[0;34m\u001b[0m\u001b[0;34m\u001b[0m\u001b[0m\n",
            "\u001b[0;32mpandas/_libs/tslibs/conversion.pyx\u001b[0m in \u001b[0;36mpandas._libs.tslibs.conversion.datetime_to_datetime64\u001b[0;34m()\u001b[0m\n",
            "\u001b[0;31mTypeError\u001b[0m: Unrecognized value type: <class 'str'>",
            "\nDuring handling of the above exception, another exception occurred:\n",
            "\u001b[0;31mParserError\u001b[0m                               Traceback (most recent call last)",
            "\u001b[0;32m<ipython-input-185-da207395306b>\u001b[0m in \u001b[0;36m<module>\u001b[0;34m()\u001b[0m\n\u001b[1;32m      1\u001b[0m \u001b[0;31m# procesar Date para extraer el mes\u001b[0m\u001b[0;34m\u001b[0m\u001b[0;34m\u001b[0m\u001b[0;34m\u001b[0m\u001b[0m\n\u001b[0;32m----> 2\u001b[0;31m \u001b[0mpd\u001b[0m\u001b[0;34m.\u001b[0m\u001b[0mto_datetime\u001b[0m\u001b[0;34m(\u001b[0m\u001b[0mdf\u001b[0m\u001b[0;34m.\u001b[0m\u001b[0mDate\u001b[0m\u001b[0;34m)\u001b[0m\u001b[0;34m\u001b[0m\u001b[0;34m\u001b[0m\u001b[0m\n\u001b[0m",
            "\u001b[0;32m/usr/local/lib/python3.6/dist-packages/pandas/core/tools/datetimes.py\u001b[0m in \u001b[0;36mto_datetime\u001b[0;34m(arg, errors, dayfirst, yearfirst, utc, format, exact, unit, infer_datetime_format, origin, cache)\u001b[0m\n\u001b[1;32m    801\u001b[0m             \u001b[0mresult\u001b[0m \u001b[0;34m=\u001b[0m \u001b[0marg\u001b[0m\u001b[0;34m.\u001b[0m\u001b[0mmap\u001b[0m\u001b[0;34m(\u001b[0m\u001b[0mcache_array\u001b[0m\u001b[0;34m)\u001b[0m\u001b[0;34m\u001b[0m\u001b[0;34m\u001b[0m\u001b[0m\n\u001b[1;32m    802\u001b[0m         \u001b[0;32melse\u001b[0m\u001b[0;34m:\u001b[0m\u001b[0;34m\u001b[0m\u001b[0;34m\u001b[0m\u001b[0m\n\u001b[0;32m--> 803\u001b[0;31m             \u001b[0mvalues\u001b[0m \u001b[0;34m=\u001b[0m \u001b[0mconvert_listlike\u001b[0m\u001b[0;34m(\u001b[0m\u001b[0marg\u001b[0m\u001b[0;34m.\u001b[0m\u001b[0m_values\u001b[0m\u001b[0;34m,\u001b[0m \u001b[0mformat\u001b[0m\u001b[0;34m)\u001b[0m\u001b[0;34m\u001b[0m\u001b[0;34m\u001b[0m\u001b[0m\n\u001b[0m\u001b[1;32m    804\u001b[0m             \u001b[0mresult\u001b[0m \u001b[0;34m=\u001b[0m \u001b[0marg\u001b[0m\u001b[0;34m.\u001b[0m\u001b[0m_constructor\u001b[0m\u001b[0;34m(\u001b[0m\u001b[0mvalues\u001b[0m\u001b[0;34m,\u001b[0m \u001b[0mindex\u001b[0m\u001b[0;34m=\u001b[0m\u001b[0marg\u001b[0m\u001b[0;34m.\u001b[0m\u001b[0mindex\u001b[0m\u001b[0;34m,\u001b[0m \u001b[0mname\u001b[0m\u001b[0;34m=\u001b[0m\u001b[0marg\u001b[0m\u001b[0;34m.\u001b[0m\u001b[0mname\u001b[0m\u001b[0;34m)\u001b[0m\u001b[0;34m\u001b[0m\u001b[0;34m\u001b[0m\u001b[0m\n\u001b[1;32m    805\u001b[0m     \u001b[0;32melif\u001b[0m \u001b[0misinstance\u001b[0m\u001b[0;34m(\u001b[0m\u001b[0marg\u001b[0m\u001b[0;34m,\u001b[0m \u001b[0;34m(\u001b[0m\u001b[0mABCDataFrame\u001b[0m\u001b[0;34m,\u001b[0m \u001b[0mabc\u001b[0m\u001b[0;34m.\u001b[0m\u001b[0mMutableMapping\u001b[0m\u001b[0;34m)\u001b[0m\u001b[0;34m)\u001b[0m\u001b[0;34m:\u001b[0m\u001b[0;34m\u001b[0m\u001b[0;34m\u001b[0m\u001b[0m\n",
            "\u001b[0;32m/usr/local/lib/python3.6/dist-packages/pandas/core/tools/datetimes.py\u001b[0m in \u001b[0;36m_convert_listlike_datetimes\u001b[0;34m(arg, format, name, tz, unit, errors, infer_datetime_format, dayfirst, yearfirst, exact)\u001b[0m\n\u001b[1;32m    464\u001b[0m             \u001b[0merrors\u001b[0m\u001b[0;34m=\u001b[0m\u001b[0merrors\u001b[0m\u001b[0;34m,\u001b[0m\u001b[0;34m\u001b[0m\u001b[0;34m\u001b[0m\u001b[0m\n\u001b[1;32m    465\u001b[0m             \u001b[0mrequire_iso8601\u001b[0m\u001b[0;34m=\u001b[0m\u001b[0mrequire_iso8601\u001b[0m\u001b[0;34m,\u001b[0m\u001b[0;34m\u001b[0m\u001b[0;34m\u001b[0m\u001b[0m\n\u001b[0;32m--> 466\u001b[0;31m             \u001b[0mallow_object\u001b[0m\u001b[0;34m=\u001b[0m\u001b[0;32mTrue\u001b[0m\u001b[0;34m,\u001b[0m\u001b[0;34m\u001b[0m\u001b[0;34m\u001b[0m\u001b[0m\n\u001b[0m\u001b[1;32m    467\u001b[0m         )\n\u001b[1;32m    468\u001b[0m \u001b[0;34m\u001b[0m\u001b[0m\n",
            "\u001b[0;32m/usr/local/lib/python3.6/dist-packages/pandas/core/arrays/datetimes.py\u001b[0m in \u001b[0;36mobjects_to_datetime64ns\u001b[0;34m(data, dayfirst, yearfirst, utc, errors, require_iso8601, allow_object)\u001b[0m\n\u001b[1;32m   2057\u001b[0m             \u001b[0;32mreturn\u001b[0m \u001b[0mvalues\u001b[0m\u001b[0;34m.\u001b[0m\u001b[0mview\u001b[0m\u001b[0;34m(\u001b[0m\u001b[0;34m\"i8\"\u001b[0m\u001b[0;34m)\u001b[0m\u001b[0;34m,\u001b[0m \u001b[0mtz_parsed\u001b[0m\u001b[0;34m\u001b[0m\u001b[0;34m\u001b[0m\u001b[0m\n\u001b[1;32m   2058\u001b[0m         \u001b[0;32mexcept\u001b[0m \u001b[0;34m(\u001b[0m\u001b[0mValueError\u001b[0m\u001b[0;34m,\u001b[0m \u001b[0mTypeError\u001b[0m\u001b[0;34m)\u001b[0m\u001b[0;34m:\u001b[0m\u001b[0;34m\u001b[0m\u001b[0;34m\u001b[0m\u001b[0m\n\u001b[0;32m-> 2059\u001b[0;31m             \u001b[0;32mraise\u001b[0m \u001b[0me\u001b[0m\u001b[0;34m\u001b[0m\u001b[0;34m\u001b[0m\u001b[0m\n\u001b[0m\u001b[1;32m   2060\u001b[0m \u001b[0;34m\u001b[0m\u001b[0m\n\u001b[1;32m   2061\u001b[0m     \u001b[0;32mif\u001b[0m \u001b[0mtz_parsed\u001b[0m \u001b[0;32mis\u001b[0m \u001b[0;32mnot\u001b[0m \u001b[0;32mNone\u001b[0m\u001b[0;34m:\u001b[0m\u001b[0;34m\u001b[0m\u001b[0;34m\u001b[0m\u001b[0m\n",
            "\u001b[0;32m/usr/local/lib/python3.6/dist-packages/pandas/core/arrays/datetimes.py\u001b[0m in \u001b[0;36mobjects_to_datetime64ns\u001b[0;34m(data, dayfirst, yearfirst, utc, errors, require_iso8601, allow_object)\u001b[0m\n\u001b[1;32m   2048\u001b[0m             \u001b[0mdayfirst\u001b[0m\u001b[0;34m=\u001b[0m\u001b[0mdayfirst\u001b[0m\u001b[0;34m,\u001b[0m\u001b[0;34m\u001b[0m\u001b[0;34m\u001b[0m\u001b[0m\n\u001b[1;32m   2049\u001b[0m             \u001b[0myearfirst\u001b[0m\u001b[0;34m=\u001b[0m\u001b[0myearfirst\u001b[0m\u001b[0;34m,\u001b[0m\u001b[0;34m\u001b[0m\u001b[0;34m\u001b[0m\u001b[0m\n\u001b[0;32m-> 2050\u001b[0;31m             \u001b[0mrequire_iso8601\u001b[0m\u001b[0;34m=\u001b[0m\u001b[0mrequire_iso8601\u001b[0m\u001b[0;34m,\u001b[0m\u001b[0;34m\u001b[0m\u001b[0;34m\u001b[0m\u001b[0m\n\u001b[0m\u001b[1;32m   2051\u001b[0m         )\n\u001b[1;32m   2052\u001b[0m     \u001b[0;32mexcept\u001b[0m \u001b[0mValueError\u001b[0m \u001b[0;32mas\u001b[0m \u001b[0me\u001b[0m\u001b[0;34m:\u001b[0m\u001b[0;34m\u001b[0m\u001b[0;34m\u001b[0m\u001b[0m\n",
            "\u001b[0;32mpandas/_libs/tslib.pyx\u001b[0m in \u001b[0;36mpandas._libs.tslib.array_to_datetime\u001b[0;34m()\u001b[0m\n",
            "\u001b[0;32mpandas/_libs/tslib.pyx\u001b[0m in \u001b[0;36mpandas._libs.tslib.array_to_datetime\u001b[0;34m()\u001b[0m\n",
            "\u001b[0;32mpandas/_libs/tslib.pyx\u001b[0m in \u001b[0;36mpandas._libs.tslib.array_to_datetime_object\u001b[0;34m()\u001b[0m\n",
            "\u001b[0;32mpandas/_libs/tslib.pyx\u001b[0m in \u001b[0;36mpandas._libs.tslib.array_to_datetime_object\u001b[0;34m()\u001b[0m\n",
            "\u001b[0;32mpandas/_libs/tslibs/parsing.pyx\u001b[0m in \u001b[0;36mpandas._libs.tslibs.parsing.parse_datetime_string\u001b[0;34m()\u001b[0m\n",
            "\u001b[0;32m/usr/local/lib/python3.6/dist-packages/dateutil/parser/_parser.py\u001b[0m in \u001b[0;36mparse\u001b[0;34m(timestr, parserinfo, **kwargs)\u001b[0m\n\u001b[1;32m   1372\u001b[0m         \u001b[0;32mreturn\u001b[0m \u001b[0mparser\u001b[0m\u001b[0;34m(\u001b[0m\u001b[0mparserinfo\u001b[0m\u001b[0;34m)\u001b[0m\u001b[0;34m.\u001b[0m\u001b[0mparse\u001b[0m\u001b[0;34m(\u001b[0m\u001b[0mtimestr\u001b[0m\u001b[0;34m,\u001b[0m \u001b[0;34m**\u001b[0m\u001b[0mkwargs\u001b[0m\u001b[0;34m)\u001b[0m\u001b[0;34m\u001b[0m\u001b[0;34m\u001b[0m\u001b[0m\n\u001b[1;32m   1373\u001b[0m     \u001b[0;32melse\u001b[0m\u001b[0;34m:\u001b[0m\u001b[0;34m\u001b[0m\u001b[0;34m\u001b[0m\u001b[0m\n\u001b[0;32m-> 1374\u001b[0;31m         \u001b[0;32mreturn\u001b[0m \u001b[0mDEFAULTPARSER\u001b[0m\u001b[0;34m.\u001b[0m\u001b[0mparse\u001b[0m\u001b[0;34m(\u001b[0m\u001b[0mtimestr\u001b[0m\u001b[0;34m,\u001b[0m \u001b[0;34m**\u001b[0m\u001b[0mkwargs\u001b[0m\u001b[0;34m)\u001b[0m\u001b[0;34m\u001b[0m\u001b[0;34m\u001b[0m\u001b[0m\n\u001b[0m\u001b[1;32m   1375\u001b[0m \u001b[0;34m\u001b[0m\u001b[0m\n\u001b[1;32m   1376\u001b[0m \u001b[0;34m\u001b[0m\u001b[0m\n",
            "\u001b[0;32m/usr/local/lib/python3.6/dist-packages/dateutil/parser/_parser.py\u001b[0m in \u001b[0;36mparse\u001b[0;34m(self, timestr, default, ignoretz, tzinfos, **kwargs)\u001b[0m\n\u001b[1;32m    647\u001b[0m \u001b[0;34m\u001b[0m\u001b[0m\n\u001b[1;32m    648\u001b[0m         \u001b[0;32mif\u001b[0m \u001b[0mres\u001b[0m \u001b[0;32mis\u001b[0m \u001b[0;32mNone\u001b[0m\u001b[0;34m:\u001b[0m\u001b[0;34m\u001b[0m\u001b[0;34m\u001b[0m\u001b[0m\n\u001b[0;32m--> 649\u001b[0;31m             \u001b[0;32mraise\u001b[0m \u001b[0mParserError\u001b[0m\u001b[0;34m(\u001b[0m\u001b[0;34m\"Unknown string format: %s\"\u001b[0m\u001b[0;34m,\u001b[0m \u001b[0mtimestr\u001b[0m\u001b[0;34m)\u001b[0m\u001b[0;34m\u001b[0m\u001b[0;34m\u001b[0m\u001b[0m\n\u001b[0m\u001b[1;32m    650\u001b[0m \u001b[0;34m\u001b[0m\u001b[0m\n\u001b[1;32m    651\u001b[0m         \u001b[0;32mif\u001b[0m \u001b[0mlen\u001b[0m\u001b[0;34m(\u001b[0m\u001b[0mres\u001b[0m\u001b[0;34m)\u001b[0m \u001b[0;34m==\u001b[0m \u001b[0;36m0\u001b[0m\u001b[0;34m:\u001b[0m\u001b[0;34m\u001b[0m\u001b[0;34m\u001b[0m\u001b[0m\n",
            "\u001b[0;31mParserError\u001b[0m: Unknown string format: reported 30-apr-2018"
          ]
        }
      ]
    },
    {
      "cell_type": "code",
      "metadata": {
        "id": "_BEXGE2aDafI",
        "outputId": "e6b66787-fc3f-4945-dbaa-313267ed4d38",
        "colab": {
          "base_uri": "https://localhost:8080/"
        }
      },
      "source": [
        "# hay strings que no cumplen un formato estándar\n",
        "df.Date[df.Date.str.len() != 11]"
      ],
      "execution_count": 186,
      "outputs": [
        {
          "output_type": "execute_result",
          "data": {
            "text/plain": [
              "14                   may 2018\n",
              "17       reported 30-apr-2018\n",
              "31       reported 10-apr-2018\n",
              "37                 9-mar-2018\n",
              "38                 9-mar-2018\n",
              "                 ...         \n",
              "25718                     NaN\n",
              "25719                     NaN\n",
              "25720                     NaN\n",
              "25721                     NaN\n",
              "25722                     NaN\n",
              "Name: Date, Length: 20836, dtype: object"
            ]
          },
          "metadata": {
            "tags": []
          },
          "execution_count": 186
        }
      ]
    },
    {
      "cell_type": "code",
      "metadata": {
        "id": "ZW_bNhbZKSuQ"
      },
      "source": [
        "# extraemos los meses\n",
        "months = df.Date.str.findall(r'jan|feb|mar|apr|may|jun|jul|aug|sep|oct|nov|dec')\n",
        "months = months[months.notna()]\n",
        "df['month'] = months.apply(lambda x: x[0] if len(x) >= 1 else np.nan)"
      ],
      "execution_count": 187,
      "outputs": []
    },
    {
      "cell_type": "code",
      "metadata": {
        "id": "FBh9Xrh67LEC",
        "outputId": "842c459a-9716-472a-985e-f46fa553d53d",
        "colab": {
          "base_uri": "https://localhost:8080/"
        }
      },
      "source": [
        "# Variable de mantenimiendo de archivo\n",
        "df[df[\"Unnamed: 23\"].notna()][\"Unnamed: 23\"]"
      ],
      "execution_count": 188,
      "outputs": [
        {
          "output_type": "execute_result",
          "data": {
            "text/plain": [
              "4415             teramo\n",
              "5840    change filename\n",
              "Name: Unnamed: 23, dtype: object"
            ]
          },
          "metadata": {
            "tags": []
          },
          "execution_count": 188
        }
      ]
    },
    {
      "cell_type": "code",
      "metadata": {
        "id": "P2SRT_ie7Rmh",
        "outputId": "8ba0c584-a8f6-4c39-9945-736deb11c698",
        "colab": {
          "base_uri": "https://localhost:8080/"
        }
      },
      "source": [
        "# Variable de mantenimiendo de archivo\n",
        "df[df[\"Unnamed: 22\"].notna()][\"Unnamed: 22\"]"
      ],
      "execution_count": 189,
      "outputs": [
        {
          "output_type": "execute_result",
          "data": {
            "text/plain": [
              "1478    stopped here\n",
              "Name: Unnamed: 22, dtype: object"
            ]
          },
          "metadata": {
            "tags": []
          },
          "execution_count": 189
        }
      ]
    },
    {
      "cell_type": "code",
      "metadata": {
        "id": "V_3QGXWB-Djg",
        "outputId": "cb510910-12cf-4e97-a7a7-d7f1ed0067a0",
        "colab": {
          "base_uri": "https://localhost:8080/"
        }
      },
      "source": [
        "# A priori area pareceria no tener importancia, pero solo tiene 801 valores únicos\n",
        "# y Florida está sobrerrepresentada.\n",
        "# puede ser interesante tenerlo en cuenta (aunque puede haber sesgo de más registros en esa zona)\n",
        "df.Area.value_counts()"
      ],
      "execution_count": 190,
      "outputs": [
        {
          "output_type": "execute_result",
          "data": {
            "text/plain": [
              "florida                  1038\n",
              "new south wales           486\n",
              "queensland                312\n",
              "hawaii                    298\n",
              "california                290\n",
              "                         ... \n",
              "tel aviv                    1\n",
              "l'etang-sale                1\n",
              "santa cruz island           1\n",
              "munxar reef                 1\n",
              "makora-ulawa province       1\n",
              "Name: Area, Length: 797, dtype: int64"
            ]
          },
          "metadata": {
            "tags": []
          },
          "execution_count": 190
        }
      ]
    },
    {
      "cell_type": "code",
      "metadata": {
        "id": "8qy5EfOdA7Nb",
        "outputId": "23b62f36-2786-4e59-e6e5-89d9aed5df60",
        "colab": {
          "base_uri": "https://localhost:8080/"
        }
      },
      "source": [
        "# Podemos tomar las actividades más populares y agrupar el resto\n",
        "# Cuantas tienen más de 50 casos?\n",
        "df.Activity.value_counts()[df.Activity.value_counts() > 50]"
      ],
      "execution_count": 191,
      "outputs": [
        {
          "output_type": "execute_result",
          "data": {
            "text/plain": [
              "surfing          976\n",
              "swimming         916\n",
              "fishing          444\n",
              "spearfishing     340\n",
              "bathing          165\n",
              "wading           149\n",
              "diving           130\n",
              "standing         101\n",
              "scuba diving      91\n",
              "snorkeling        89\n",
              "body boarding     65\n",
              "Name: Activity, dtype: int64"
            ]
          },
          "metadata": {
            "tags": []
          },
          "execution_count": 191
        }
      ]
    },
    {
      "cell_type": "code",
      "metadata": {
        "id": "JkKOGgCpwQIK",
        "outputId": "a986bd31-c4a2-4a09-d02b-a79913dab32d",
        "colab": {
          "base_uri": "https://localhost:8080/"
        }
      },
      "source": [
        "# las descripciones de las heridas son demasiado específicas salvo para lo que ya está codificado en Fatal\n",
        "df.Injury.value_counts()"
      ],
      "execution_count": 192,
      "outputs": [
        {
          "output_type": "execute_result",
          "data": {
            "text/plain": [
              "fatal                                                     815\n",
              "survived                                                   97\n",
              "no injury                                                  90\n",
              "foot bitten                                                87\n",
              "leg bitten                                                 75\n",
              "                                                         ... \n",
              "left leg severed at knee, part of left thigh removed        1\n",
              "puncture wounds and lacerations to left thigh and knee      1\n",
              "multiple injuries to arm, wrist and torso                   1\n",
              "fatal, arm bitten                                           1\n",
              "no injury, shark bit rear of paddleboard                    1\n",
              "Name: Injury, Length: 3628, dtype: int64"
            ]
          },
          "metadata": {
            "tags": []
          },
          "execution_count": 192
        }
      ]
    },
    {
      "cell_type": "code",
      "metadata": {
        "id": "rXI3n_8iyqN9",
        "outputId": "ccf24c99-7db5-4d4d-e71b-d36dfaf83a42",
        "colab": {
          "base_uri": "https://localhost:8080/"
        }
      },
      "source": [
        "# La hora del día está codificada de formas irregulares y hay 354 valores distintos\n",
        "df.Time.value_counts()"
      ],
      "execution_count": 193,
      "outputs": [
        {
          "output_type": "execute_result",
          "data": {
            "text/plain": [
              "afternoon         187\n",
              "11h00             128\n",
              "morning           122\n",
              "12h00             109\n",
              "15h00             108\n",
              "                 ... \n",
              "prior to 10h37      1\n",
              "17h00-18h00         1\n",
              "9h00                1\n",
              "17h40               1\n",
              "10h44               1\n",
              "Name: Time, Length: 354, dtype: int64"
            ]
          },
          "metadata": {
            "tags": []
          },
          "execution_count": 193
        }
      ]
    },
    {
      "cell_type": "code",
      "metadata": {
        "id": "YK8SsEEczNXx",
        "outputId": "ce22f2a8-e43c-4efa-c78b-65cc1b3ed861",
        "colab": {
          "base_uri": "https://localhost:8080/"
        }
      },
      "source": [
        "# Las especies no tienen un formato consistente\n",
        "df.Species.value_counts()"
      ],
      "execution_count": 194,
      "outputs": [
        {
          "output_type": "execute_result",
          "data": {
            "text/plain": [
              "white shark                                           165\n",
              "shark involvement prior to death was not confirmed    105\n",
              "invalid                                               102\n",
              "shark involvement not confirmed                        90\n",
              "tiger shark                                            74\n",
              "                                                     ... \n",
              "white shark, 2.7 m [9'], 280-lb                         1\n",
              "grey nurse shark, 1m                                    1\n",
              "7' female shark                                         1\n",
              "1.9 m [6.5'] bull shark                                 1\n",
              "no shark invovlement - it ws a publicity stunt          1\n",
              "Name: Species, Length: 1421, dtype: int64"
            ]
          },
          "metadata": {
            "tags": []
          },
          "execution_count": 194
        }
      ]
    },
    {
      "cell_type": "code",
      "metadata": {
        "id": "J55LelIJ8i0C",
        "outputId": "a077fb06-77f0-4d27-bfd7-b5ae9a18ffe3",
        "colab": {
          "base_uri": "https://localhost:8080/",
          "height": 352
        }
      },
      "source": [
        "# Case number parece ser la fecha, ya codificada en Date, y no aporta información\n",
        "# El año no nos interesa\n",
        "# Los nombres no aportan información, ni los de los investigadores, ni la edad\n",
        "# los enlaces a la descripción de los casos, y demás, tampoco\n",
        "df.drop(columns = df.columns[15:], inplace = True)\n",
        "df.drop(columns = [\"Case Number\", \"Name\", \"Age\", \"Date\", \"Year\", \"Location\", \"Injury\", \"Species\", \"Time\"], inplace = True)\n",
        "df.head()"
      ],
      "execution_count": 195,
      "outputs": [
        {
          "output_type": "execute_result",
          "data": {
            "text/html": [
              "<div>\n",
              "<style scoped>\n",
              "    .dataframe tbody tr th:only-of-type {\n",
              "        vertical-align: middle;\n",
              "    }\n",
              "\n",
              "    .dataframe tbody tr th {\n",
              "        vertical-align: top;\n",
              "    }\n",
              "\n",
              "    .dataframe thead th {\n",
              "        text-align: right;\n",
              "    }\n",
              "</style>\n",
              "<table border=\"1\" class=\"dataframe\">\n",
              "  <thead>\n",
              "    <tr style=\"text-align: right;\">\n",
              "      <th></th>\n",
              "      <th>Type</th>\n",
              "      <th>Country</th>\n",
              "      <th>Area</th>\n",
              "      <th>Activity</th>\n",
              "      <th>Sex</th>\n",
              "      <th>Fatal (Y/N)</th>\n",
              "    </tr>\n",
              "  </thead>\n",
              "  <tbody>\n",
              "    <tr>\n",
              "      <th>0</th>\n",
              "      <td>boating</td>\n",
              "      <td>usa</td>\n",
              "      <td>california</td>\n",
              "      <td>paddling</td>\n",
              "      <td>f</td>\n",
              "      <td>n</td>\n",
              "    </tr>\n",
              "    <tr>\n",
              "      <th>1</th>\n",
              "      <td>unprovoked</td>\n",
              "      <td>usa</td>\n",
              "      <td>georgia</td>\n",
              "      <td>standing</td>\n",
              "      <td>f</td>\n",
              "      <td>n</td>\n",
              "    </tr>\n",
              "    <tr>\n",
              "      <th>2</th>\n",
              "      <td>invalid</td>\n",
              "      <td>usa</td>\n",
              "      <td>hawaii</td>\n",
              "      <td>surfing</td>\n",
              "      <td>m</td>\n",
              "      <td>n</td>\n",
              "    </tr>\n",
              "    <tr>\n",
              "      <th>3</th>\n",
              "      <td>unprovoked</td>\n",
              "      <td>australia</td>\n",
              "      <td>new south wales</td>\n",
              "      <td>surfing</td>\n",
              "      <td>m</td>\n",
              "      <td>n</td>\n",
              "    </tr>\n",
              "    <tr>\n",
              "      <th>4</th>\n",
              "      <td>provoked</td>\n",
              "      <td>mexico</td>\n",
              "      <td>colima</td>\n",
              "      <td>free diving</td>\n",
              "      <td>m</td>\n",
              "      <td>n</td>\n",
              "    </tr>\n",
              "  </tbody>\n",
              "</table>\n",
              "</div>"
            ],
            "text/plain": [
              "         Type    Country             Area     Activity Sex Fatal (Y/N)\n",
              "0     boating        usa       california     paddling   f           n\n",
              "1  unprovoked        usa          georgia     standing   f           n\n",
              "2     invalid        usa           hawaii      surfing   m           n\n",
              "3  unprovoked  australia  new south wales      surfing   m           n\n",
              "4    provoked     mexico           colima  free diving   m           n"
            ]
          },
          "metadata": {
            "tags": []
          },
          "execution_count": 195
        }
      ]
    },
    {
      "cell_type": "code",
      "metadata": {
        "id": "eZzjhYIs8t7C",
        "outputId": "7245cb0a-63c0-4bfc-e7a0-505d91f801f0",
        "colab": {
          "base_uri": "https://localhost:8080/"
        }
      },
      "source": [
        "# missing\n",
        "100*df.isna().sum(axis = 0)/df.shape[0]"
      ],
      "execution_count": 196,
      "outputs": [
        {
          "output_type": "execute_result",
          "data": {
            "text/plain": [
              "Type           75.516075\n",
              "Country        75.694903\n",
              "Area           77.269370\n",
              "Activity       77.615364\n",
              "Sex            77.697003\n",
              "Fatal (Y/N)    77.595926\n",
              "dtype: float64"
            ]
          },
          "metadata": {
            "tags": []
          },
          "execution_count": 196
        }
      ]
    },
    {
      "cell_type": "code",
      "metadata": {
        "id": "GPnMHQV08yc5"
      },
      "source": [
        "df.dropna(inplace = True)"
      ],
      "execution_count": 197,
      "outputs": []
    },
    {
      "cell_type": "code",
      "metadata": {
        "id": "v-h_-KmS2KaQ",
        "outputId": "8e496699-124d-4fb9-88a3-264fc54bbe9d",
        "colab": {
          "base_uri": "https://localhost:8080/"
        }
      },
      "source": [
        "df.Country.value_counts()[:30]"
      ],
      "execution_count": 198,
      "outputs": [
        {
          "output_type": "execute_result",
          "data": {
            "text/plain": [
              "usa                 1870\n",
              "australia           1017\n",
              "south africa         452\n",
              "papua new guinea      98\n",
              "new zealand           96\n",
              "brazil                80\n",
              "bahamas               75\n",
              "mexico                65\n",
              "italy                 45\n",
              "reunion               43\n",
              "fiji                  38\n",
              "mozambique            34\n",
              "philippines           34\n",
              "cuba                  34\n",
              "new caledonia         28\n",
              "spain                 27\n",
              "panama                27\n",
              "egypt                 24\n",
              "india                 23\n",
              "french polynesia      23\n",
              "croatia               19\n",
              "indonesia             17\n",
              "solomon islands       16\n",
              "japan                 15\n",
              "greece                15\n",
              "tonga                 15\n",
              "hong kong             14\n",
              "england               14\n",
              "iran                  14\n",
              "jamaica               13\n",
              "Name: Country, dtype: int64"
            ]
          },
          "metadata": {
            "tags": []
          },
          "execution_count": 198
        }
      ]
    },
    {
      "cell_type": "code",
      "metadata": {
        "id": "gCvkvwM72mu2"
      },
      "source": [
        "# Codificamos los 30 países más comunes por hemisferio (norte/sur)\n",
        "# el resto los codificamos como otro\n",
        "hemisferio = {\n",
        "    \"usa\" : \"norte\",\n",
        "    \"australia\" : \"sur\",\n",
        "    \"south africa\" : \"sur\",\n",
        "    \"papua new guinea\" : \"sur\",\n",
        "    \"new zealand\" : \"sur\",\n",
        "    \"brazil\" : \"sur\",\n",
        "    \"bahamas\" : \"norte\",\n",
        "    \"mexico\" : \"norte\",\n",
        "    \"italy\" : \"norte\",\n",
        "    \"reunion\" : \"sur\",\n",
        "    \"fiji\" : \"sur\",\n",
        "    \"mozambique\" : \"sur\",\n",
        "    \"philippines\" : \"sur\",\n",
        "    \"cuba\" : \"norte\",\n",
        "    \"new caledonia\" : \"sur\",\n",
        "    \"spain\" : \"norte\",\n",
        "    \"panama\" : \"norte\",\n",
        "    \"egypt\" : \"norte\",\n",
        "    \"india\" : \"sur\",\n",
        "    \"french polynesia\" : \"sur\",\n",
        "    \"croatia\" : \"norte\",\n",
        "    \"indonesia\" : \"sur\",\n",
        "    \"solomon islands\" : \"sur\",\n",
        "    \"japan\" : \"norte\",\n",
        "    \"greece\" : \"norte\",\n",
        "    \"tonga\" : \"sur\",\n",
        "    \"hong kong\" : \"norte\",\n",
        "    \"england\" : \"norte\",\n",
        "    \"iran\" : \"norte\",\n",
        "    \"jamaica\" : \"norte\"\n",
        "}\n",
        "\n",
        "def func_hemisferio(pais):\n",
        "  if pais in hemisferio.keys():\n",
        "    return hemisferio[pais]\n",
        "  else:\n",
        "    return 'otro'\n",
        "\n",
        "df['hemisferio'] = df.Country.apply(func_hemisferio)"
      ],
      "execution_count": 199,
      "outputs": []
    },
    {
      "cell_type": "code",
      "metadata": {
        "id": "XoB8qHvR5eIi",
        "outputId": "3ef0b89d-dab6-4ba2-e965-54f9c03c66d3",
        "colab": {
          "base_uri": "https://localhost:8080/"
        }
      },
      "source": [
        "df['hemisferio'].value_counts()"
      ],
      "execution_count": 200,
      "outputs": [
        {
          "output_type": "execute_result",
          "data": {
            "text/plain": [
              "norte    2271\n",
              "sur      2014\n",
              "otro      367\n",
              "Name: hemisferio, dtype: int64"
            ]
          },
          "metadata": {
            "tags": []
          },
          "execution_count": 200
        }
      ]
    },
    {
      "cell_type": "code",
      "metadata": {
        "id": "tP5FTUHd6B9O"
      },
      "source": [
        "# Agrupemos el resto de valores\n",
        "df.loc[df[\"Fatal (Y/N)\"].apply(lambda x: x not in ['y', 'n']),'Fatal (Y/N)'] = 'unknown'\n",
        "df.loc[df.Sex.apply(lambda x: x not in ['m', 'f']),'Sex'] = 'unknown'"
      ],
      "execution_count": 201,
      "outputs": []
    },
    {
      "cell_type": "code",
      "metadata": {
        "id": "NNl90aQX6cb_"
      },
      "source": [
        "other_activities = df.Activity.value_counts()[df.Activity.value_counts() < 50].index\n",
        "df.Activity = df.Activity.apply(lambda x : 'other' if x in other_activities else x)"
      ],
      "execution_count": 202,
      "outputs": []
    },
    {
      "cell_type": "code",
      "metadata": {
        "id": "_mjesH917Ye6"
      },
      "source": [
        "areas_principales = df.Area.value_counts()[:15].index\n",
        "df.Area = df.Area.apply(lambda x: 'other' if x not in areas_principales else x)"
      ],
      "execution_count": 203,
      "outputs": []
    },
    {
      "cell_type": "code",
      "metadata": {
        "id": "zbqySXQuBGWf"
      },
      "source": [
        "df.to_csv(\"sharks_limpio.csv\")"
      ],
      "execution_count": 176,
      "outputs": []
    }
  ]
}